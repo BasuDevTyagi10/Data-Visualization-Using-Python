{
  "nbformat": 4,
  "nbformat_minor": 0,
  "metadata": {
    "colab": {
      "name": "Day5-Challenge-Data-Visualization-in-Python.ipynb",
      "provenance": []
    },
    "kernelspec": {
      "name": "python3",
      "display_name": "Python 3"
    },
    "language_info": {
      "name": "python"
    }
  },
  "cells": [
    {
      "cell_type": "markdown",
      "metadata": {
        "id": "AZ-5a3IFyQ7-"
      },
      "source": [
        "## ASSIGNMENT DAY 4\n",
        "### Let's Upgrade - Data Visualization Using Python\n",
        "Name: Basudev Tyagi<br>\n",
        "E-Mail: tyagi101basudev@gmail.com<br>\n",
        "Mobile No.: 7251976234"
      ]
    },
    {
      "cell_type": "code",
      "metadata": {
        "id": "aRLW59HcGS1v"
      },
      "source": [
        "# IMPORTING NECESSARY PACKAGES\n",
        "import pandas as pd\n",
        "import plotly.express as px\n",
        "import requests\n",
        "from bs4 import BeautifulSoup\n",
        "import re"
      ],
      "execution_count": 1,
      "outputs": []
    },
    {
      "cell_type": "markdown",
      "metadata": {
        "id": "FtpT9Av6ywXc"
      },
      "source": [
        "<b>Question 1</b><br>\n",
        "What is Plotly ?<br>\n",
        "<b>Answer</b><br>\n",
        "Python Plotly Library is an open-source library that can be used for data visualization and understanding data simply and easily. Plotly supports various types of plots like line charts, scatter plots, histograms, cox plots, etc."
      ]
    },
    {
      "cell_type": "markdown",
      "metadata": {
        "id": "XHd7lvXpzW5_"
      },
      "source": [
        "<b>Question 2</b><br>\n",
        "Where is it used ?<br>\n",
        "<b>Answer</b><br>\n",
        "Python Plotly Library can be used as data visualization tool in data science, data analytics, machine learning, dashboard construction etc. as it makes understanding data simple and easy.\n"
      ]
    },
    {
      "cell_type": "markdown",
      "metadata": {
        "id": "5aL8hnR70JAW"
      },
      "source": [
        "<b>Question 3</b><br>\n",
        "plot a Pie Chart of Indian Car companies market share % values : max ( 6 Companies market share )"
      ]
    },
    {
      "cell_type": "code",
      "metadata": {
        "id": "HFROAJgLsidp"
      },
      "source": [
        "page = requests.get(\"https://gaadiwaadi.com/nov-2020-car-sales-market-share-analysis-maruti-hyundai-kia-tata/\")\n",
        "soup = BeautifulSoup(page.content,\"html.parser\")\n",
        "table = soup.find('table').find('tbody')"
      ],
      "execution_count": 2,
      "outputs": []
    },
    {
      "cell_type": "code",
      "metadata": {
        "colab": {
          "base_uri": "https://localhost:8080/"
        },
        "id": "sfaPhln6tsWn",
        "outputId": "b976a08c-0498-4352-9ad1-869cf0faaaf3"
      },
      "source": [
        "car_brand = list()\n",
        "sales_in_2020 = list()\n",
        "for tr in table.find_all('tr'):\n",
        "  td = tr.find_all('td')\n",
        "  i = 1\n",
        "  for x in td:\n",
        "    if i%3 == 1:\n",
        "      car_brand.append(x.get_text())\n",
        "    elif i%3 == 2:\n",
        "      sales_in_2020.append(x.get_text())\n",
        "    i=i+1\n",
        "print(car_brand)\n",
        "print(sales_in_2020)\n",
        "car_brand.remove(car_brand[0])\n",
        "sales_in_2020.remove(sales_in_2020[0])\n",
        "regex = re.compile('[^a-zA-Z\\s]')\n",
        "car_brand = [regex.sub('', x).strip() for x in car_brand]\n",
        "sales_in_2020 = [int(x.replace(',','')) for x in sales_in_2020]\n",
        "print(car_brand)\n",
        "print(sales_in_2020)"
      ],
      "execution_count": 3,
      "outputs": [
        {
          "output_type": "stream",
          "text": [
            "['Car Brands (Market Share)', '1. Maruti Suzuki (47.4%)', '2. Hyundai (17%)', '3. Tata (7.5%)', '4. Kia (7.3%)', '5. Mahindra (6.4%)', '6. Renault (3.6%)', '7. Honda (3.5%)', '8. Toyota (3.0%)', '9. MG (1.5%)', '10. Ford (1.4%)', '11. Volkswagen (0.5%)', '12. Skoda (0.4%)', '13. Nissan (0.4%)', '14. Fiat (0.2%)']\n",
            "['Sales In November 2020', '1,35,775', '48,800', '21,600', '21,022', '18,212', '10,181', '9,990', '8,500', '4,163', '3,991', '1,412', '1,056', '1,017', '709']\n",
            "['Maruti Suzuki', 'Hyundai', 'Tata', 'Kia', 'Mahindra', 'Renault', 'Honda', 'Toyota', 'MG', 'Ford', 'Volkswagen', 'Skoda', 'Nissan', 'Fiat']\n",
            "[135775, 48800, 21600, 21022, 18212, 10181, 9990, 8500, 4163, 3991, 1412, 1056, 1017, 709]\n"
          ],
          "name": "stdout"
        }
      ]
    },
    {
      "cell_type": "code",
      "metadata": {
        "colab": {
          "base_uri": "https://localhost:8080/",
          "height": 462
        },
        "id": "Liy6ee5c0xL9",
        "outputId": "9962a6d4-0e1b-4bff-a983-02376585553b"
      },
      "source": [
        "car_data = {\n",
        "    'car_brand':car_brand,\n",
        "    'sales_in_2020':sales_in_2020\n",
        "}\n",
        "car_df = pd.DataFrame(car_data)\n",
        "car_df"
      ],
      "execution_count": 4,
      "outputs": [
        {
          "output_type": "execute_result",
          "data": {
            "text/html": [
              "<div>\n",
              "<style scoped>\n",
              "    .dataframe tbody tr th:only-of-type {\n",
              "        vertical-align: middle;\n",
              "    }\n",
              "\n",
              "    .dataframe tbody tr th {\n",
              "        vertical-align: top;\n",
              "    }\n",
              "\n",
              "    .dataframe thead th {\n",
              "        text-align: right;\n",
              "    }\n",
              "</style>\n",
              "<table border=\"1\" class=\"dataframe\">\n",
              "  <thead>\n",
              "    <tr style=\"text-align: right;\">\n",
              "      <th></th>\n",
              "      <th>car_brand</th>\n",
              "      <th>sales_in_2020</th>\n",
              "    </tr>\n",
              "  </thead>\n",
              "  <tbody>\n",
              "    <tr>\n",
              "      <th>0</th>\n",
              "      <td>Maruti Suzuki</td>\n",
              "      <td>135775</td>\n",
              "    </tr>\n",
              "    <tr>\n",
              "      <th>1</th>\n",
              "      <td>Hyundai</td>\n",
              "      <td>48800</td>\n",
              "    </tr>\n",
              "    <tr>\n",
              "      <th>2</th>\n",
              "      <td>Tata</td>\n",
              "      <td>21600</td>\n",
              "    </tr>\n",
              "    <tr>\n",
              "      <th>3</th>\n",
              "      <td>Kia</td>\n",
              "      <td>21022</td>\n",
              "    </tr>\n",
              "    <tr>\n",
              "      <th>4</th>\n",
              "      <td>Mahindra</td>\n",
              "      <td>18212</td>\n",
              "    </tr>\n",
              "    <tr>\n",
              "      <th>5</th>\n",
              "      <td>Renault</td>\n",
              "      <td>10181</td>\n",
              "    </tr>\n",
              "    <tr>\n",
              "      <th>6</th>\n",
              "      <td>Honda</td>\n",
              "      <td>9990</td>\n",
              "    </tr>\n",
              "    <tr>\n",
              "      <th>7</th>\n",
              "      <td>Toyota</td>\n",
              "      <td>8500</td>\n",
              "    </tr>\n",
              "    <tr>\n",
              "      <th>8</th>\n",
              "      <td>MG</td>\n",
              "      <td>4163</td>\n",
              "    </tr>\n",
              "    <tr>\n",
              "      <th>9</th>\n",
              "      <td>Ford</td>\n",
              "      <td>3991</td>\n",
              "    </tr>\n",
              "    <tr>\n",
              "      <th>10</th>\n",
              "      <td>Volkswagen</td>\n",
              "      <td>1412</td>\n",
              "    </tr>\n",
              "    <tr>\n",
              "      <th>11</th>\n",
              "      <td>Skoda</td>\n",
              "      <td>1056</td>\n",
              "    </tr>\n",
              "    <tr>\n",
              "      <th>12</th>\n",
              "      <td>Nissan</td>\n",
              "      <td>1017</td>\n",
              "    </tr>\n",
              "    <tr>\n",
              "      <th>13</th>\n",
              "      <td>Fiat</td>\n",
              "      <td>709</td>\n",
              "    </tr>\n",
              "  </tbody>\n",
              "</table>\n",
              "</div>"
            ],
            "text/plain": [
              "        car_brand  sales_in_2020\n",
              "0   Maruti Suzuki         135775\n",
              "1         Hyundai          48800\n",
              "2            Tata          21600\n",
              "3             Kia          21022\n",
              "4        Mahindra          18212\n",
              "5         Renault          10181\n",
              "6           Honda           9990\n",
              "7          Toyota           8500\n",
              "8              MG           4163\n",
              "9            Ford           3991\n",
              "10     Volkswagen           1412\n",
              "11          Skoda           1056\n",
              "12         Nissan           1017\n",
              "13           Fiat            709"
            ]
          },
          "metadata": {
            "tags": []
          },
          "execution_count": 4
        }
      ]
    },
    {
      "cell_type": "code",
      "metadata": {
        "colab": {
          "base_uri": "https://localhost:8080/",
          "height": 542
        },
        "id": "kYygfvgt1EzG",
        "outputId": "88c439ee-c37e-4324-c988-62990ea006e6"
      },
      "source": [
        "car_df = car_df.nlargest(6,columns=['sales_in_2020'])\n",
        "pie_chart = px.pie(car_df, values='sales_in_2020', names='car_brand', title='Indian Car Companies Market Share (%)')\n",
        "pie_chart.update_traces(textposition='inside',textinfo='percent+label')\n",
        "pie_chart.show()"
      ],
      "execution_count": 5,
      "outputs": [
        {
          "output_type": "display_data",
          "data": {
            "text/html": [
              "<html>\n",
              "<head><meta charset=\"utf-8\" /></head>\n",
              "<body>\n",
              "    <div>\n",
              "            <script src=\"https://cdnjs.cloudflare.com/ajax/libs/mathjax/2.7.5/MathJax.js?config=TeX-AMS-MML_SVG\"></script><script type=\"text/javascript\">if (window.MathJax) {MathJax.Hub.Config({SVG: {font: \"STIX-Web\"}});}</script>\n",
              "                <script type=\"text/javascript\">window.PlotlyConfig = {MathJaxConfig: 'local'};</script>\n",
              "        <script src=\"https://cdn.plot.ly/plotly-latest.min.js\"></script>    \n",
              "            <div id=\"7a000bdd-424e-45a3-bd3d-665f6380bd47\" class=\"plotly-graph-div\" style=\"height:525px; width:100%;\"></div>\n",
              "            <script type=\"text/javascript\">\n",
              "                \n",
              "                    window.PLOTLYENV=window.PLOTLYENV || {};\n",
              "                    \n",
              "                if (document.getElementById(\"7a000bdd-424e-45a3-bd3d-665f6380bd47\")) {\n",
              "                    Plotly.newPlot(\n",
              "                        '7a000bdd-424e-45a3-bd3d-665f6380bd47',\n",
              "                        [{\"domain\": {\"x\": [0.0, 1.0], \"y\": [0.0, 1.0]}, \"hoverlabel\": {\"namelength\": 0}, \"hovertemplate\": \"car_brand=%{label}<br>sales_in_2020=%{value}\", \"labels\": [\"Maruti Suzuki\", \"Hyundai\", \"Tata\", \"Kia\", \"Mahindra\", \"Renault\"], \"legendgroup\": \"\", \"name\": \"\", \"showlegend\": true, \"textinfo\": \"percent+label\", \"textposition\": \"inside\", \"type\": \"pie\", \"values\": [135775, 48800, 21600, 21022, 18212, 10181]}],\n",
              "                        {\"legend\": {\"tracegroupgap\": 0}, \"template\": {\"data\": {\"bar\": [{\"error_x\": {\"color\": \"#2a3f5f\"}, \"error_y\": {\"color\": \"#2a3f5f\"}, \"marker\": {\"line\": {\"color\": \"#E5ECF6\", \"width\": 0.5}}, \"type\": \"bar\"}], \"barpolar\": [{\"marker\": {\"line\": {\"color\": \"#E5ECF6\", \"width\": 0.5}}, \"type\": \"barpolar\"}], \"carpet\": [{\"aaxis\": {\"endlinecolor\": \"#2a3f5f\", \"gridcolor\": \"white\", \"linecolor\": \"white\", \"minorgridcolor\": \"white\", \"startlinecolor\": \"#2a3f5f\"}, \"baxis\": {\"endlinecolor\": \"#2a3f5f\", \"gridcolor\": \"white\", \"linecolor\": \"white\", \"minorgridcolor\": \"white\", \"startlinecolor\": \"#2a3f5f\"}, \"type\": \"carpet\"}], \"choropleth\": [{\"colorbar\": {\"outlinewidth\": 0, \"ticks\": \"\"}, \"type\": \"choropleth\"}], \"contour\": [{\"colorbar\": {\"outlinewidth\": 0, \"ticks\": \"\"}, \"colorscale\": [[0.0, \"#0d0887\"], [0.1111111111111111, \"#46039f\"], [0.2222222222222222, \"#7201a8\"], [0.3333333333333333, \"#9c179e\"], [0.4444444444444444, \"#bd3786\"], [0.5555555555555556, \"#d8576b\"], [0.6666666666666666, \"#ed7953\"], [0.7777777777777778, \"#fb9f3a\"], [0.8888888888888888, \"#fdca26\"], [1.0, \"#f0f921\"]], \"type\": \"contour\"}], \"contourcarpet\": [{\"colorbar\": {\"outlinewidth\": 0, \"ticks\": \"\"}, \"type\": \"contourcarpet\"}], \"heatmap\": [{\"colorbar\": {\"outlinewidth\": 0, \"ticks\": \"\"}, \"colorscale\": [[0.0, \"#0d0887\"], [0.1111111111111111, \"#46039f\"], [0.2222222222222222, \"#7201a8\"], [0.3333333333333333, \"#9c179e\"], [0.4444444444444444, \"#bd3786\"], [0.5555555555555556, \"#d8576b\"], [0.6666666666666666, \"#ed7953\"], [0.7777777777777778, \"#fb9f3a\"], [0.8888888888888888, \"#fdca26\"], [1.0, \"#f0f921\"]], \"type\": \"heatmap\"}], \"heatmapgl\": [{\"colorbar\": {\"outlinewidth\": 0, \"ticks\": \"\"}, \"colorscale\": [[0.0, \"#0d0887\"], [0.1111111111111111, \"#46039f\"], [0.2222222222222222, \"#7201a8\"], [0.3333333333333333, \"#9c179e\"], [0.4444444444444444, \"#bd3786\"], [0.5555555555555556, \"#d8576b\"], [0.6666666666666666, \"#ed7953\"], [0.7777777777777778, \"#fb9f3a\"], [0.8888888888888888, \"#fdca26\"], [1.0, \"#f0f921\"]], \"type\": \"heatmapgl\"}], \"histogram\": [{\"marker\": {\"colorbar\": {\"outlinewidth\": 0, \"ticks\": \"\"}}, \"type\": \"histogram\"}], \"histogram2d\": [{\"colorbar\": {\"outlinewidth\": 0, \"ticks\": \"\"}, \"colorscale\": [[0.0, \"#0d0887\"], [0.1111111111111111, \"#46039f\"], [0.2222222222222222, \"#7201a8\"], [0.3333333333333333, \"#9c179e\"], [0.4444444444444444, \"#bd3786\"], [0.5555555555555556, \"#d8576b\"], [0.6666666666666666, \"#ed7953\"], [0.7777777777777778, \"#fb9f3a\"], [0.8888888888888888, \"#fdca26\"], [1.0, \"#f0f921\"]], \"type\": \"histogram2d\"}], \"histogram2dcontour\": [{\"colorbar\": {\"outlinewidth\": 0, \"ticks\": \"\"}, \"colorscale\": [[0.0, \"#0d0887\"], [0.1111111111111111, \"#46039f\"], [0.2222222222222222, \"#7201a8\"], [0.3333333333333333, \"#9c179e\"], [0.4444444444444444, \"#bd3786\"], [0.5555555555555556, \"#d8576b\"], [0.6666666666666666, \"#ed7953\"], [0.7777777777777778, \"#fb9f3a\"], [0.8888888888888888, \"#fdca26\"], [1.0, \"#f0f921\"]], \"type\": \"histogram2dcontour\"}], \"mesh3d\": [{\"colorbar\": {\"outlinewidth\": 0, \"ticks\": \"\"}, \"type\": \"mesh3d\"}], \"parcoords\": [{\"line\": {\"colorbar\": {\"outlinewidth\": 0, \"ticks\": \"\"}}, \"type\": \"parcoords\"}], \"pie\": [{\"automargin\": true, \"type\": \"pie\"}], \"scatter\": [{\"marker\": {\"colorbar\": {\"outlinewidth\": 0, \"ticks\": \"\"}}, \"type\": \"scatter\"}], \"scatter3d\": [{\"line\": {\"colorbar\": {\"outlinewidth\": 0, \"ticks\": \"\"}}, \"marker\": {\"colorbar\": {\"outlinewidth\": 0, \"ticks\": \"\"}}, \"type\": \"scatter3d\"}], \"scattercarpet\": [{\"marker\": {\"colorbar\": {\"outlinewidth\": 0, \"ticks\": \"\"}}, \"type\": \"scattercarpet\"}], \"scattergeo\": [{\"marker\": {\"colorbar\": {\"outlinewidth\": 0, \"ticks\": \"\"}}, \"type\": \"scattergeo\"}], \"scattergl\": [{\"marker\": {\"colorbar\": {\"outlinewidth\": 0, \"ticks\": \"\"}}, \"type\": \"scattergl\"}], \"scattermapbox\": [{\"marker\": {\"colorbar\": {\"outlinewidth\": 0, \"ticks\": \"\"}}, \"type\": \"scattermapbox\"}], \"scatterpolar\": [{\"marker\": {\"colorbar\": {\"outlinewidth\": 0, \"ticks\": \"\"}}, \"type\": \"scatterpolar\"}], \"scatterpolargl\": [{\"marker\": {\"colorbar\": {\"outlinewidth\": 0, \"ticks\": \"\"}}, \"type\": \"scatterpolargl\"}], \"scatterternary\": [{\"marker\": {\"colorbar\": {\"outlinewidth\": 0, \"ticks\": \"\"}}, \"type\": \"scatterternary\"}], \"surface\": [{\"colorbar\": {\"outlinewidth\": 0, \"ticks\": \"\"}, \"colorscale\": [[0.0, \"#0d0887\"], [0.1111111111111111, \"#46039f\"], [0.2222222222222222, \"#7201a8\"], [0.3333333333333333, \"#9c179e\"], [0.4444444444444444, \"#bd3786\"], [0.5555555555555556, \"#d8576b\"], [0.6666666666666666, \"#ed7953\"], [0.7777777777777778, \"#fb9f3a\"], [0.8888888888888888, \"#fdca26\"], [1.0, \"#f0f921\"]], \"type\": \"surface\"}], \"table\": [{\"cells\": {\"fill\": {\"color\": \"#EBF0F8\"}, \"line\": {\"color\": \"white\"}}, \"header\": {\"fill\": {\"color\": \"#C8D4E3\"}, \"line\": {\"color\": \"white\"}}, \"type\": \"table\"}]}, \"layout\": {\"annotationdefaults\": {\"arrowcolor\": \"#2a3f5f\", \"arrowhead\": 0, \"arrowwidth\": 1}, \"coloraxis\": {\"colorbar\": {\"outlinewidth\": 0, \"ticks\": \"\"}}, \"colorscale\": {\"diverging\": [[0, \"#8e0152\"], [0.1, \"#c51b7d\"], [0.2, \"#de77ae\"], [0.3, \"#f1b6da\"], [0.4, \"#fde0ef\"], [0.5, \"#f7f7f7\"], [0.6, \"#e6f5d0\"], [0.7, \"#b8e186\"], [0.8, \"#7fbc41\"], [0.9, \"#4d9221\"], [1, \"#276419\"]], \"sequential\": [[0.0, \"#0d0887\"], [0.1111111111111111, \"#46039f\"], [0.2222222222222222, \"#7201a8\"], [0.3333333333333333, \"#9c179e\"], [0.4444444444444444, \"#bd3786\"], [0.5555555555555556, \"#d8576b\"], [0.6666666666666666, \"#ed7953\"], [0.7777777777777778, \"#fb9f3a\"], [0.8888888888888888, \"#fdca26\"], [1.0, \"#f0f921\"]], \"sequentialminus\": [[0.0, \"#0d0887\"], [0.1111111111111111, \"#46039f\"], [0.2222222222222222, \"#7201a8\"], [0.3333333333333333, \"#9c179e\"], [0.4444444444444444, \"#bd3786\"], [0.5555555555555556, \"#d8576b\"], [0.6666666666666666, \"#ed7953\"], [0.7777777777777778, \"#fb9f3a\"], [0.8888888888888888, \"#fdca26\"], [1.0, \"#f0f921\"]]}, \"colorway\": [\"#636efa\", \"#EF553B\", \"#00cc96\", \"#ab63fa\", \"#FFA15A\", \"#19d3f3\", \"#FF6692\", \"#B6E880\", \"#FF97FF\", \"#FECB52\"], \"font\": {\"color\": \"#2a3f5f\"}, \"geo\": {\"bgcolor\": \"white\", \"lakecolor\": \"white\", \"landcolor\": \"#E5ECF6\", \"showlakes\": true, \"showland\": true, \"subunitcolor\": \"white\"}, \"hoverlabel\": {\"align\": \"left\"}, \"hovermode\": \"closest\", \"mapbox\": {\"style\": \"light\"}, \"paper_bgcolor\": \"white\", \"plot_bgcolor\": \"#E5ECF6\", \"polar\": {\"angularaxis\": {\"gridcolor\": \"white\", \"linecolor\": \"white\", \"ticks\": \"\"}, \"bgcolor\": \"#E5ECF6\", \"radialaxis\": {\"gridcolor\": \"white\", \"linecolor\": \"white\", \"ticks\": \"\"}}, \"scene\": {\"xaxis\": {\"backgroundcolor\": \"#E5ECF6\", \"gridcolor\": \"white\", \"gridwidth\": 2, \"linecolor\": \"white\", \"showbackground\": true, \"ticks\": \"\", \"zerolinecolor\": \"white\"}, \"yaxis\": {\"backgroundcolor\": \"#E5ECF6\", \"gridcolor\": \"white\", \"gridwidth\": 2, \"linecolor\": \"white\", \"showbackground\": true, \"ticks\": \"\", \"zerolinecolor\": \"white\"}, \"zaxis\": {\"backgroundcolor\": \"#E5ECF6\", \"gridcolor\": \"white\", \"gridwidth\": 2, \"linecolor\": \"white\", \"showbackground\": true, \"ticks\": \"\", \"zerolinecolor\": \"white\"}}, \"shapedefaults\": {\"line\": {\"color\": \"#2a3f5f\"}}, \"ternary\": {\"aaxis\": {\"gridcolor\": \"white\", \"linecolor\": \"white\", \"ticks\": \"\"}, \"baxis\": {\"gridcolor\": \"white\", \"linecolor\": \"white\", \"ticks\": \"\"}, \"bgcolor\": \"#E5ECF6\", \"caxis\": {\"gridcolor\": \"white\", \"linecolor\": \"white\", \"ticks\": \"\"}}, \"title\": {\"x\": 0.05}, \"xaxis\": {\"automargin\": true, \"gridcolor\": \"white\", \"linecolor\": \"white\", \"ticks\": \"\", \"title\": {\"standoff\": 15}, \"zerolinecolor\": \"white\", \"zerolinewidth\": 2}, \"yaxis\": {\"automargin\": true, \"gridcolor\": \"white\", \"linecolor\": \"white\", \"ticks\": \"\", \"title\": {\"standoff\": 15}, \"zerolinecolor\": \"white\", \"zerolinewidth\": 2}}}, \"title\": {\"text\": \"Indian Car Companies Market Share (%)\"}},\n",
              "                        {\"responsive\": true}\n",
              "                    ).then(function(){\n",
              "                            \n",
              "var gd = document.getElementById('7a000bdd-424e-45a3-bd3d-665f6380bd47');\n",
              "var x = new MutationObserver(function (mutations, observer) {{\n",
              "        var display = window.getComputedStyle(gd).display;\n",
              "        if (!display || display === 'none') {{\n",
              "            console.log([gd, 'removed!']);\n",
              "            Plotly.purge(gd);\n",
              "            observer.disconnect();\n",
              "        }}\n",
              "}});\n",
              "\n",
              "// Listen for the removal of the full notebook cells\n",
              "var notebookContainer = gd.closest('#notebook-container');\n",
              "if (notebookContainer) {{\n",
              "    x.observe(notebookContainer, {childList: true});\n",
              "}}\n",
              "\n",
              "// Listen for the clearing of the current output cell\n",
              "var outputEl = gd.closest('.output');\n",
              "if (outputEl) {{\n",
              "    x.observe(outputEl, {childList: true});\n",
              "}}\n",
              "\n",
              "                        })\n",
              "                };\n",
              "                \n",
              "            </script>\n",
              "        </div>\n",
              "</body>\n",
              "</html>"
            ]
          },
          "metadata": {
            "tags": []
          }
        }
      ]
    },
    {
      "cell_type": "markdown",
      "metadata": {
        "id": "IfJe7o_b0hCQ"
      },
      "source": [
        "<b>Question 4</b><br>\n",
        "Plot a Bar Chart with India's covid-19 Active cases ( Max 10 States )"
      ]
    },
    {
      "cell_type": "code",
      "metadata": {
        "id": "_PGMi5c77Hos"
      },
      "source": [
        "page = requests.get(\"https://www.ndtv.com/coronavirus/india-covid-19-tracker\")\n",
        "soup = BeautifulSoup(page.content,\"html.parser\")\n",
        "table = soup.find('table')\n",
        "tbody = table.find('tbody')"
      ],
      "execution_count": 6,
      "outputs": []
    },
    {
      "cell_type": "code",
      "metadata": {
        "colab": {
          "base_uri": "https://localhost:8080/"
        },
        "id": "d0DyDaym7Usn",
        "outputId": "5e402bf1-4248-4e4f-be6b-11b75404ebef"
      },
      "source": [
        "states = list()\n",
        "total_cases = list()\n",
        "active_cases = list()\n",
        "recovered_cases = list()\n",
        "deaths = list()\n",
        "i = 1\n",
        "for x in tbody.find_all('td',attrs={'class':'table-cell'}):\n",
        "  # print(x)\n",
        "  state = x.find('label')\n",
        "  if(state is not None):\n",
        "    states.append(state.string)\n",
        "    # print(state.string)\n",
        "  case = x.find('p',attrs={'class':'mid-wrap'})\n",
        "  if case is not None:\n",
        "    case_str = case.get_text()\n",
        "    case_str = case_str[:case_str.index(' ')]\n",
        "    # print(int(case_str))\n",
        "    if i%4 == 1:\n",
        "      total_cases.append(case_str)\n",
        "    elif i%4 == 2:\n",
        "      active_cases.append(case_str)\n",
        "    elif i%4 == 3:\n",
        "      recovered_cases.append(case_str)\n",
        "    elif i%4 == 0:\n",
        "      deaths.append(case_str)\n",
        "    i=i+1\n",
        "  # states.append(x.find('label').get_text()) \n",
        "print(states)\n",
        "print(total_cases)\n",
        "print(active_cases)\n",
        "print(recovered_cases)\n",
        "print(deaths)"
      ],
      "execution_count": 7,
      "outputs": [
        {
          "output_type": "stream",
          "text": [
            "['Maharashtra', 'Andhra Pradesh', 'Karnataka', 'Goa', 'Tamil Nadu', 'Kerala', 'Chhattisgarh', 'Telangana', 'Odisha', 'Madhya Pradesh', 'Gujarat', 'Rajasthan', 'Haryana', 'Uttar Pradesh', 'Delhi', 'Assam', 'Sikkim', 'Bihar', 'West Bengal', 'Andaman And Nicobar Islands', 'Puducherry', 'Arunachal Pradesh', 'Nagaland', 'Dadra And Nagar Haveli', 'Jharkhand', 'Tripura', 'Ladakh', 'Jammu And Kashmir', 'Himachal Pradesh', 'Punjab', 'Uttarakhand', 'Manipur', 'Chandigarh', 'Meghalaya', 'Mizoram', 'Lakshadweep']\n",
            "['6165402', '1924421', '2872684', '168824', '2521438', '3073134', '998270', '632379', '941745', '791656', '824274', '953159', '769307', '1707446', '1435128', '536238', '22397', '723355', '1513014', '7493', '119057', '40383', '26052', '10588', '346371', '71315', '20204', '318848', '203719', '597714', '341230', '78621', '61841', '54853', '24702', '10020']\n",
            "['111622', '27195', '34881', '1770', '31819', '111578', '4517', '10148', '21683', '415', '801', '661', '902', '1576', '693', '20941', '2225', '789', '14531', '9', '1413', '3918', '959', '21', '390', '4245', '104', '2709', '1207', '1494', '932', '7520', '93', '4110', '4787', '120']\n",
            "['5927756', '1884202', '2801907', '163957', '2456165', '2946870', '980275', '618496', '915400', '780735', '813399', '943553', '758849', '1683170', '1409417', '510432', '19855', '712947', '1480556', '7355', '115873', '36274', '24582', '10563', '340862', '66353', '19894', '311782', '199020', '580027', '332957', '69814', '60939', '49830', '19803', '9851']\n",
            "['126024', '13024', '35896', '3097', '33454', '14686', '13478', '3735', '4662', '10506', '10074', '8945', '9556', '22700', '25018', '4865', '317', '9619', '17927', '129', '1771', '191', '511', '4', '5119', '717', '206', '4357', '3492', '16193', '7341', '1287', '809', '913', '112', '49']\n"
          ],
          "name": "stdout"
        }
      ]
    },
    {
      "cell_type": "code",
      "metadata": {
        "colab": {
          "base_uri": "https://localhost:8080/",
          "height": 1000
        },
        "id": "hSI1cSr8AQqE",
        "outputId": "007f18a0-6c93-4f07-bf14-a3f7ee399d41"
      },
      "source": [
        "data = {\n",
        "    'state':states,\n",
        "    'total_cases':total_cases,\n",
        "    'active_cases':active_cases,\n",
        "    'recovered_cases':recovered_cases,\n",
        "    'deaths':deaths\n",
        "}\n",
        "covid_df = pd.DataFrame(data)\n",
        "covid_df"
      ],
      "execution_count": 8,
      "outputs": [
        {
          "output_type": "execute_result",
          "data": {
            "text/html": [
              "<div>\n",
              "<style scoped>\n",
              "    .dataframe tbody tr th:only-of-type {\n",
              "        vertical-align: middle;\n",
              "    }\n",
              "\n",
              "    .dataframe tbody tr th {\n",
              "        vertical-align: top;\n",
              "    }\n",
              "\n",
              "    .dataframe thead th {\n",
              "        text-align: right;\n",
              "    }\n",
              "</style>\n",
              "<table border=\"1\" class=\"dataframe\">\n",
              "  <thead>\n",
              "    <tr style=\"text-align: right;\">\n",
              "      <th></th>\n",
              "      <th>state</th>\n",
              "      <th>total_cases</th>\n",
              "      <th>active_cases</th>\n",
              "      <th>recovered_cases</th>\n",
              "      <th>deaths</th>\n",
              "    </tr>\n",
              "  </thead>\n",
              "  <tbody>\n",
              "    <tr>\n",
              "      <th>0</th>\n",
              "      <td>Maharashtra</td>\n",
              "      <td>6165402</td>\n",
              "      <td>111622</td>\n",
              "      <td>5927756</td>\n",
              "      <td>126024</td>\n",
              "    </tr>\n",
              "    <tr>\n",
              "      <th>1</th>\n",
              "      <td>Andhra Pradesh</td>\n",
              "      <td>1924421</td>\n",
              "      <td>27195</td>\n",
              "      <td>1884202</td>\n",
              "      <td>13024</td>\n",
              "    </tr>\n",
              "    <tr>\n",
              "      <th>2</th>\n",
              "      <td>Karnataka</td>\n",
              "      <td>2872684</td>\n",
              "      <td>34881</td>\n",
              "      <td>2801907</td>\n",
              "      <td>35896</td>\n",
              "    </tr>\n",
              "    <tr>\n",
              "      <th>3</th>\n",
              "      <td>Goa</td>\n",
              "      <td>168824</td>\n",
              "      <td>1770</td>\n",
              "      <td>163957</td>\n",
              "      <td>3097</td>\n",
              "    </tr>\n",
              "    <tr>\n",
              "      <th>4</th>\n",
              "      <td>Tamil Nadu</td>\n",
              "      <td>2521438</td>\n",
              "      <td>31819</td>\n",
              "      <td>2456165</td>\n",
              "      <td>33454</td>\n",
              "    </tr>\n",
              "    <tr>\n",
              "      <th>5</th>\n",
              "      <td>Kerala</td>\n",
              "      <td>3073134</td>\n",
              "      <td>111578</td>\n",
              "      <td>2946870</td>\n",
              "      <td>14686</td>\n",
              "    </tr>\n",
              "    <tr>\n",
              "      <th>6</th>\n",
              "      <td>Chhattisgarh</td>\n",
              "      <td>998270</td>\n",
              "      <td>4517</td>\n",
              "      <td>980275</td>\n",
              "      <td>13478</td>\n",
              "    </tr>\n",
              "    <tr>\n",
              "      <th>7</th>\n",
              "      <td>Telangana</td>\n",
              "      <td>632379</td>\n",
              "      <td>10148</td>\n",
              "      <td>618496</td>\n",
              "      <td>3735</td>\n",
              "    </tr>\n",
              "    <tr>\n",
              "      <th>8</th>\n",
              "      <td>Odisha</td>\n",
              "      <td>941745</td>\n",
              "      <td>21683</td>\n",
              "      <td>915400</td>\n",
              "      <td>4662</td>\n",
              "    </tr>\n",
              "    <tr>\n",
              "      <th>9</th>\n",
              "      <td>Madhya Pradesh</td>\n",
              "      <td>791656</td>\n",
              "      <td>415</td>\n",
              "      <td>780735</td>\n",
              "      <td>10506</td>\n",
              "    </tr>\n",
              "    <tr>\n",
              "      <th>10</th>\n",
              "      <td>Gujarat</td>\n",
              "      <td>824274</td>\n",
              "      <td>801</td>\n",
              "      <td>813399</td>\n",
              "      <td>10074</td>\n",
              "    </tr>\n",
              "    <tr>\n",
              "      <th>11</th>\n",
              "      <td>Rajasthan</td>\n",
              "      <td>953159</td>\n",
              "      <td>661</td>\n",
              "      <td>943553</td>\n",
              "      <td>8945</td>\n",
              "    </tr>\n",
              "    <tr>\n",
              "      <th>12</th>\n",
              "      <td>Haryana</td>\n",
              "      <td>769307</td>\n",
              "      <td>902</td>\n",
              "      <td>758849</td>\n",
              "      <td>9556</td>\n",
              "    </tr>\n",
              "    <tr>\n",
              "      <th>13</th>\n",
              "      <td>Uttar Pradesh</td>\n",
              "      <td>1707446</td>\n",
              "      <td>1576</td>\n",
              "      <td>1683170</td>\n",
              "      <td>22700</td>\n",
              "    </tr>\n",
              "    <tr>\n",
              "      <th>14</th>\n",
              "      <td>Delhi</td>\n",
              "      <td>1435128</td>\n",
              "      <td>693</td>\n",
              "      <td>1409417</td>\n",
              "      <td>25018</td>\n",
              "    </tr>\n",
              "    <tr>\n",
              "      <th>15</th>\n",
              "      <td>Assam</td>\n",
              "      <td>536238</td>\n",
              "      <td>20941</td>\n",
              "      <td>510432</td>\n",
              "      <td>4865</td>\n",
              "    </tr>\n",
              "    <tr>\n",
              "      <th>16</th>\n",
              "      <td>Sikkim</td>\n",
              "      <td>22397</td>\n",
              "      <td>2225</td>\n",
              "      <td>19855</td>\n",
              "      <td>317</td>\n",
              "    </tr>\n",
              "    <tr>\n",
              "      <th>17</th>\n",
              "      <td>Bihar</td>\n",
              "      <td>723355</td>\n",
              "      <td>789</td>\n",
              "      <td>712947</td>\n",
              "      <td>9619</td>\n",
              "    </tr>\n",
              "    <tr>\n",
              "      <th>18</th>\n",
              "      <td>West Bengal</td>\n",
              "      <td>1513014</td>\n",
              "      <td>14531</td>\n",
              "      <td>1480556</td>\n",
              "      <td>17927</td>\n",
              "    </tr>\n",
              "    <tr>\n",
              "      <th>19</th>\n",
              "      <td>Andaman And Nicobar Islands</td>\n",
              "      <td>7493</td>\n",
              "      <td>9</td>\n",
              "      <td>7355</td>\n",
              "      <td>129</td>\n",
              "    </tr>\n",
              "    <tr>\n",
              "      <th>20</th>\n",
              "      <td>Puducherry</td>\n",
              "      <td>119057</td>\n",
              "      <td>1413</td>\n",
              "      <td>115873</td>\n",
              "      <td>1771</td>\n",
              "    </tr>\n",
              "    <tr>\n",
              "      <th>21</th>\n",
              "      <td>Arunachal Pradesh</td>\n",
              "      <td>40383</td>\n",
              "      <td>3918</td>\n",
              "      <td>36274</td>\n",
              "      <td>191</td>\n",
              "    </tr>\n",
              "    <tr>\n",
              "      <th>22</th>\n",
              "      <td>Nagaland</td>\n",
              "      <td>26052</td>\n",
              "      <td>959</td>\n",
              "      <td>24582</td>\n",
              "      <td>511</td>\n",
              "    </tr>\n",
              "    <tr>\n",
              "      <th>23</th>\n",
              "      <td>Dadra And Nagar Haveli</td>\n",
              "      <td>10588</td>\n",
              "      <td>21</td>\n",
              "      <td>10563</td>\n",
              "      <td>4</td>\n",
              "    </tr>\n",
              "    <tr>\n",
              "      <th>24</th>\n",
              "      <td>Jharkhand</td>\n",
              "      <td>346371</td>\n",
              "      <td>390</td>\n",
              "      <td>340862</td>\n",
              "      <td>5119</td>\n",
              "    </tr>\n",
              "    <tr>\n",
              "      <th>25</th>\n",
              "      <td>Tripura</td>\n",
              "      <td>71315</td>\n",
              "      <td>4245</td>\n",
              "      <td>66353</td>\n",
              "      <td>717</td>\n",
              "    </tr>\n",
              "    <tr>\n",
              "      <th>26</th>\n",
              "      <td>Ladakh</td>\n",
              "      <td>20204</td>\n",
              "      <td>104</td>\n",
              "      <td>19894</td>\n",
              "      <td>206</td>\n",
              "    </tr>\n",
              "    <tr>\n",
              "      <th>27</th>\n",
              "      <td>Jammu And Kashmir</td>\n",
              "      <td>318848</td>\n",
              "      <td>2709</td>\n",
              "      <td>311782</td>\n",
              "      <td>4357</td>\n",
              "    </tr>\n",
              "    <tr>\n",
              "      <th>28</th>\n",
              "      <td>Himachal Pradesh</td>\n",
              "      <td>203719</td>\n",
              "      <td>1207</td>\n",
              "      <td>199020</td>\n",
              "      <td>3492</td>\n",
              "    </tr>\n",
              "    <tr>\n",
              "      <th>29</th>\n",
              "      <td>Punjab</td>\n",
              "      <td>597714</td>\n",
              "      <td>1494</td>\n",
              "      <td>580027</td>\n",
              "      <td>16193</td>\n",
              "    </tr>\n",
              "    <tr>\n",
              "      <th>30</th>\n",
              "      <td>Uttarakhand</td>\n",
              "      <td>341230</td>\n",
              "      <td>932</td>\n",
              "      <td>332957</td>\n",
              "      <td>7341</td>\n",
              "    </tr>\n",
              "    <tr>\n",
              "      <th>31</th>\n",
              "      <td>Manipur</td>\n",
              "      <td>78621</td>\n",
              "      <td>7520</td>\n",
              "      <td>69814</td>\n",
              "      <td>1287</td>\n",
              "    </tr>\n",
              "    <tr>\n",
              "      <th>32</th>\n",
              "      <td>Chandigarh</td>\n",
              "      <td>61841</td>\n",
              "      <td>93</td>\n",
              "      <td>60939</td>\n",
              "      <td>809</td>\n",
              "    </tr>\n",
              "    <tr>\n",
              "      <th>33</th>\n",
              "      <td>Meghalaya</td>\n",
              "      <td>54853</td>\n",
              "      <td>4110</td>\n",
              "      <td>49830</td>\n",
              "      <td>913</td>\n",
              "    </tr>\n",
              "    <tr>\n",
              "      <th>34</th>\n",
              "      <td>Mizoram</td>\n",
              "      <td>24702</td>\n",
              "      <td>4787</td>\n",
              "      <td>19803</td>\n",
              "      <td>112</td>\n",
              "    </tr>\n",
              "    <tr>\n",
              "      <th>35</th>\n",
              "      <td>Lakshadweep</td>\n",
              "      <td>10020</td>\n",
              "      <td>120</td>\n",
              "      <td>9851</td>\n",
              "      <td>49</td>\n",
              "    </tr>\n",
              "  </tbody>\n",
              "</table>\n",
              "</div>"
            ],
            "text/plain": [
              "                          state total_cases  ... recovered_cases  deaths\n",
              "0                   Maharashtra     6165402  ...         5927756  126024\n",
              "1                Andhra Pradesh     1924421  ...         1884202   13024\n",
              "2                     Karnataka     2872684  ...         2801907   35896\n",
              "3                           Goa      168824  ...          163957    3097\n",
              "4                    Tamil Nadu     2521438  ...         2456165   33454\n",
              "5                        Kerala     3073134  ...         2946870   14686\n",
              "6                  Chhattisgarh      998270  ...          980275   13478\n",
              "7                     Telangana      632379  ...          618496    3735\n",
              "8                        Odisha      941745  ...          915400    4662\n",
              "9                Madhya Pradesh      791656  ...          780735   10506\n",
              "10                      Gujarat      824274  ...          813399   10074\n",
              "11                    Rajasthan      953159  ...          943553    8945\n",
              "12                      Haryana      769307  ...          758849    9556\n",
              "13                Uttar Pradesh     1707446  ...         1683170   22700\n",
              "14                        Delhi     1435128  ...         1409417   25018\n",
              "15                        Assam      536238  ...          510432    4865\n",
              "16                       Sikkim       22397  ...           19855     317\n",
              "17                        Bihar      723355  ...          712947    9619\n",
              "18                  West Bengal     1513014  ...         1480556   17927\n",
              "19  Andaman And Nicobar Islands        7493  ...            7355     129\n",
              "20                   Puducherry      119057  ...          115873    1771\n",
              "21            Arunachal Pradesh       40383  ...           36274     191\n",
              "22                     Nagaland       26052  ...           24582     511\n",
              "23       Dadra And Nagar Haveli       10588  ...           10563       4\n",
              "24                    Jharkhand      346371  ...          340862    5119\n",
              "25                      Tripura       71315  ...           66353     717\n",
              "26                       Ladakh       20204  ...           19894     206\n",
              "27            Jammu And Kashmir      318848  ...          311782    4357\n",
              "28             Himachal Pradesh      203719  ...          199020    3492\n",
              "29                       Punjab      597714  ...          580027   16193\n",
              "30                  Uttarakhand      341230  ...          332957    7341\n",
              "31                      Manipur       78621  ...           69814    1287\n",
              "32                   Chandigarh       61841  ...           60939     809\n",
              "33                    Meghalaya       54853  ...           49830     913\n",
              "34                      Mizoram       24702  ...           19803     112\n",
              "35                  Lakshadweep       10020  ...            9851      49\n",
              "\n",
              "[36 rows x 5 columns]"
            ]
          },
          "metadata": {
            "tags": []
          },
          "execution_count": 8
        }
      ]
    },
    {
      "cell_type": "code",
      "metadata": {
        "colab": {
          "base_uri": "https://localhost:8080/"
        },
        "id": "2OA-CUVVGyju",
        "outputId": "fd9f9340-f522-4c6b-8551-77e5976bd395"
      },
      "source": [
        "covid_df.info()"
      ],
      "execution_count": 9,
      "outputs": [
        {
          "output_type": "stream",
          "text": [
            "<class 'pandas.core.frame.DataFrame'>\n",
            "RangeIndex: 36 entries, 0 to 35\n",
            "Data columns (total 5 columns):\n",
            " #   Column           Non-Null Count  Dtype \n",
            "---  ------           --------------  ----- \n",
            " 0   state            36 non-null     object\n",
            " 1   total_cases      36 non-null     object\n",
            " 2   active_cases     36 non-null     object\n",
            " 3   recovered_cases  36 non-null     object\n",
            " 4   deaths           36 non-null     object\n",
            "dtypes: object(5)\n",
            "memory usage: 1.5+ KB\n"
          ],
          "name": "stdout"
        }
      ]
    },
    {
      "cell_type": "code",
      "metadata": {
        "id": "g1BAhfnwORxB"
      },
      "source": [
        "covid_df['total_cases'] = pd.to_numeric(covid_df['total_cases'])\n",
        "covid_df['active_cases'] = pd.to_numeric(covid_df['active_cases'])\n",
        "covid_df['recovered_cases'] = pd.to_numeric(covid_df['recovered_cases'])\n",
        "covid_df['deaths'] = pd.to_numeric(covid_df['deaths'])\n",
        "covid_df['state'] = [str(i) for i in covid_df['state']]"
      ],
      "execution_count": 10,
      "outputs": []
    },
    {
      "cell_type": "code",
      "metadata": {
        "colab": {
          "base_uri": "https://localhost:8080/",
          "height": 542
        },
        "id": "dsaaDtS5HTZ3",
        "outputId": "1c4273ec-c667-4548-d384-2a7970904247"
      },
      "source": [
        "max_active_cases_df = covid_df.nlargest(10,columns=['active_cases'])\n",
        "bar_chart = px.bar(max_active_cases_df, x='state', y='active_cases',color='active_cases')\n",
        "bar_chart.show()"
      ],
      "execution_count": 11,
      "outputs": [
        {
          "output_type": "display_data",
          "data": {
            "text/html": [
              "<html>\n",
              "<head><meta charset=\"utf-8\" /></head>\n",
              "<body>\n",
              "    <div>\n",
              "            <script src=\"https://cdnjs.cloudflare.com/ajax/libs/mathjax/2.7.5/MathJax.js?config=TeX-AMS-MML_SVG\"></script><script type=\"text/javascript\">if (window.MathJax) {MathJax.Hub.Config({SVG: {font: \"STIX-Web\"}});}</script>\n",
              "                <script type=\"text/javascript\">window.PlotlyConfig = {MathJaxConfig: 'local'};</script>\n",
              "        <script src=\"https://cdn.plot.ly/plotly-latest.min.js\"></script>    \n",
              "            <div id=\"876dbccb-8234-42df-a8f8-abae2c7b4595\" class=\"plotly-graph-div\" style=\"height:525px; width:100%;\"></div>\n",
              "            <script type=\"text/javascript\">\n",
              "                \n",
              "                    window.PLOTLYENV=window.PLOTLYENV || {};\n",
              "                    \n",
              "                if (document.getElementById(\"876dbccb-8234-42df-a8f8-abae2c7b4595\")) {\n",
              "                    Plotly.newPlot(\n",
              "                        '876dbccb-8234-42df-a8f8-abae2c7b4595',\n",
              "                        [{\"alignmentgroup\": \"True\", \"hoverlabel\": {\"namelength\": 0}, \"hovertemplate\": \"state=%{x}<br>active_cases=%{marker.color}\", \"legendgroup\": \"\", \"marker\": {\"color\": [111622, 111578, 34881, 31819, 27195, 21683, 20941, 14531, 10148, 7520], \"coloraxis\": \"coloraxis\"}, \"name\": \"\", \"offsetgroup\": \"\", \"orientation\": \"v\", \"showlegend\": false, \"textposition\": \"auto\", \"type\": \"bar\", \"x\": [\"Maharashtra\", \"Kerala\", \"Karnataka\", \"Tamil Nadu\", \"Andhra Pradesh\", \"Odisha\", \"Assam\", \"West Bengal\", \"Telangana\", \"Manipur\"], \"xaxis\": \"x\", \"y\": [111622, 111578, 34881, 31819, 27195, 21683, 20941, 14531, 10148, 7520], \"yaxis\": \"y\"}],\n",
              "                        {\"barmode\": \"relative\", \"coloraxis\": {\"colorbar\": {\"title\": {\"text\": \"active_cases\"}}, \"colorscale\": [[0.0, \"#0d0887\"], [0.1111111111111111, \"#46039f\"], [0.2222222222222222, \"#7201a8\"], [0.3333333333333333, \"#9c179e\"], [0.4444444444444444, \"#bd3786\"], [0.5555555555555556, \"#d8576b\"], [0.6666666666666666, \"#ed7953\"], [0.7777777777777778, \"#fb9f3a\"], [0.8888888888888888, \"#fdca26\"], [1.0, \"#f0f921\"]]}, \"legend\": {\"tracegroupgap\": 0}, \"margin\": {\"t\": 60}, \"template\": {\"data\": {\"bar\": [{\"error_x\": {\"color\": \"#2a3f5f\"}, \"error_y\": {\"color\": \"#2a3f5f\"}, \"marker\": {\"line\": {\"color\": \"#E5ECF6\", \"width\": 0.5}}, \"type\": \"bar\"}], \"barpolar\": [{\"marker\": {\"line\": {\"color\": \"#E5ECF6\", \"width\": 0.5}}, \"type\": \"barpolar\"}], \"carpet\": [{\"aaxis\": {\"endlinecolor\": \"#2a3f5f\", \"gridcolor\": \"white\", \"linecolor\": \"white\", \"minorgridcolor\": \"white\", \"startlinecolor\": \"#2a3f5f\"}, \"baxis\": {\"endlinecolor\": \"#2a3f5f\", \"gridcolor\": \"white\", \"linecolor\": \"white\", \"minorgridcolor\": \"white\", \"startlinecolor\": \"#2a3f5f\"}, \"type\": \"carpet\"}], \"choropleth\": [{\"colorbar\": {\"outlinewidth\": 0, \"ticks\": \"\"}, \"type\": \"choropleth\"}], \"contour\": [{\"colorbar\": {\"outlinewidth\": 0, \"ticks\": \"\"}, \"colorscale\": [[0.0, \"#0d0887\"], [0.1111111111111111, \"#46039f\"], [0.2222222222222222, \"#7201a8\"], [0.3333333333333333, \"#9c179e\"], [0.4444444444444444, \"#bd3786\"], [0.5555555555555556, \"#d8576b\"], [0.6666666666666666, \"#ed7953\"], [0.7777777777777778, \"#fb9f3a\"], [0.8888888888888888, \"#fdca26\"], [1.0, \"#f0f921\"]], \"type\": \"contour\"}], \"contourcarpet\": [{\"colorbar\": {\"outlinewidth\": 0, \"ticks\": \"\"}, \"type\": \"contourcarpet\"}], \"heatmap\": [{\"colorbar\": {\"outlinewidth\": 0, \"ticks\": \"\"}, \"colorscale\": [[0.0, \"#0d0887\"], [0.1111111111111111, \"#46039f\"], [0.2222222222222222, \"#7201a8\"], [0.3333333333333333, \"#9c179e\"], [0.4444444444444444, \"#bd3786\"], [0.5555555555555556, \"#d8576b\"], [0.6666666666666666, \"#ed7953\"], [0.7777777777777778, \"#fb9f3a\"], [0.8888888888888888, \"#fdca26\"], [1.0, \"#f0f921\"]], \"type\": \"heatmap\"}], \"heatmapgl\": [{\"colorbar\": {\"outlinewidth\": 0, \"ticks\": \"\"}, \"colorscale\": [[0.0, \"#0d0887\"], [0.1111111111111111, \"#46039f\"], [0.2222222222222222, \"#7201a8\"], [0.3333333333333333, \"#9c179e\"], [0.4444444444444444, \"#bd3786\"], [0.5555555555555556, \"#d8576b\"], [0.6666666666666666, \"#ed7953\"], [0.7777777777777778, \"#fb9f3a\"], [0.8888888888888888, \"#fdca26\"], [1.0, \"#f0f921\"]], \"type\": \"heatmapgl\"}], \"histogram\": [{\"marker\": {\"colorbar\": {\"outlinewidth\": 0, \"ticks\": \"\"}}, \"type\": \"histogram\"}], \"histogram2d\": [{\"colorbar\": {\"outlinewidth\": 0, \"ticks\": \"\"}, \"colorscale\": [[0.0, \"#0d0887\"], [0.1111111111111111, \"#46039f\"], [0.2222222222222222, \"#7201a8\"], [0.3333333333333333, \"#9c179e\"], [0.4444444444444444, \"#bd3786\"], [0.5555555555555556, \"#d8576b\"], [0.6666666666666666, \"#ed7953\"], [0.7777777777777778, \"#fb9f3a\"], [0.8888888888888888, \"#fdca26\"], [1.0, \"#f0f921\"]], \"type\": \"histogram2d\"}], \"histogram2dcontour\": [{\"colorbar\": {\"outlinewidth\": 0, \"ticks\": \"\"}, \"colorscale\": [[0.0, \"#0d0887\"], [0.1111111111111111, \"#46039f\"], [0.2222222222222222, \"#7201a8\"], [0.3333333333333333, \"#9c179e\"], [0.4444444444444444, \"#bd3786\"], [0.5555555555555556, \"#d8576b\"], [0.6666666666666666, \"#ed7953\"], [0.7777777777777778, \"#fb9f3a\"], [0.8888888888888888, \"#fdca26\"], [1.0, \"#f0f921\"]], \"type\": \"histogram2dcontour\"}], \"mesh3d\": [{\"colorbar\": {\"outlinewidth\": 0, \"ticks\": \"\"}, \"type\": \"mesh3d\"}], \"parcoords\": [{\"line\": {\"colorbar\": {\"outlinewidth\": 0, \"ticks\": \"\"}}, \"type\": \"parcoords\"}], \"pie\": [{\"automargin\": true, \"type\": \"pie\"}], \"scatter\": [{\"marker\": {\"colorbar\": {\"outlinewidth\": 0, \"ticks\": \"\"}}, \"type\": \"scatter\"}], \"scatter3d\": [{\"line\": {\"colorbar\": {\"outlinewidth\": 0, \"ticks\": \"\"}}, \"marker\": {\"colorbar\": {\"outlinewidth\": 0, \"ticks\": \"\"}}, \"type\": \"scatter3d\"}], \"scattercarpet\": [{\"marker\": {\"colorbar\": {\"outlinewidth\": 0, \"ticks\": \"\"}}, \"type\": \"scattercarpet\"}], \"scattergeo\": [{\"marker\": {\"colorbar\": {\"outlinewidth\": 0, \"ticks\": \"\"}}, \"type\": \"scattergeo\"}], \"scattergl\": [{\"marker\": {\"colorbar\": {\"outlinewidth\": 0, \"ticks\": \"\"}}, \"type\": \"scattergl\"}], \"scattermapbox\": [{\"marker\": {\"colorbar\": {\"outlinewidth\": 0, \"ticks\": \"\"}}, \"type\": \"scattermapbox\"}], \"scatterpolar\": [{\"marker\": {\"colorbar\": {\"outlinewidth\": 0, \"ticks\": \"\"}}, \"type\": \"scatterpolar\"}], \"scatterpolargl\": [{\"marker\": {\"colorbar\": {\"outlinewidth\": 0, \"ticks\": \"\"}}, \"type\": \"scatterpolargl\"}], \"scatterternary\": [{\"marker\": {\"colorbar\": {\"outlinewidth\": 0, \"ticks\": \"\"}}, \"type\": \"scatterternary\"}], \"surface\": [{\"colorbar\": {\"outlinewidth\": 0, \"ticks\": \"\"}, \"colorscale\": [[0.0, \"#0d0887\"], [0.1111111111111111, \"#46039f\"], [0.2222222222222222, \"#7201a8\"], [0.3333333333333333, \"#9c179e\"], [0.4444444444444444, \"#bd3786\"], [0.5555555555555556, \"#d8576b\"], [0.6666666666666666, \"#ed7953\"], [0.7777777777777778, \"#fb9f3a\"], [0.8888888888888888, \"#fdca26\"], [1.0, \"#f0f921\"]], \"type\": \"surface\"}], \"table\": [{\"cells\": {\"fill\": {\"color\": \"#EBF0F8\"}, \"line\": {\"color\": \"white\"}}, \"header\": {\"fill\": {\"color\": \"#C8D4E3\"}, \"line\": {\"color\": \"white\"}}, \"type\": \"table\"}]}, \"layout\": {\"annotationdefaults\": {\"arrowcolor\": \"#2a3f5f\", \"arrowhead\": 0, \"arrowwidth\": 1}, \"coloraxis\": {\"colorbar\": {\"outlinewidth\": 0, \"ticks\": \"\"}}, \"colorscale\": {\"diverging\": [[0, \"#8e0152\"], [0.1, \"#c51b7d\"], [0.2, \"#de77ae\"], [0.3, \"#f1b6da\"], [0.4, \"#fde0ef\"], [0.5, \"#f7f7f7\"], [0.6, \"#e6f5d0\"], [0.7, \"#b8e186\"], [0.8, \"#7fbc41\"], [0.9, \"#4d9221\"], [1, \"#276419\"]], \"sequential\": [[0.0, \"#0d0887\"], [0.1111111111111111, \"#46039f\"], [0.2222222222222222, \"#7201a8\"], [0.3333333333333333, \"#9c179e\"], [0.4444444444444444, \"#bd3786\"], [0.5555555555555556, \"#d8576b\"], [0.6666666666666666, \"#ed7953\"], [0.7777777777777778, \"#fb9f3a\"], [0.8888888888888888, \"#fdca26\"], [1.0, \"#f0f921\"]], \"sequentialminus\": [[0.0, \"#0d0887\"], [0.1111111111111111, \"#46039f\"], [0.2222222222222222, \"#7201a8\"], [0.3333333333333333, \"#9c179e\"], [0.4444444444444444, \"#bd3786\"], [0.5555555555555556, \"#d8576b\"], [0.6666666666666666, \"#ed7953\"], [0.7777777777777778, \"#fb9f3a\"], [0.8888888888888888, \"#fdca26\"], [1.0, \"#f0f921\"]]}, \"colorway\": [\"#636efa\", \"#EF553B\", \"#00cc96\", \"#ab63fa\", \"#FFA15A\", \"#19d3f3\", \"#FF6692\", \"#B6E880\", \"#FF97FF\", \"#FECB52\"], \"font\": {\"color\": \"#2a3f5f\"}, \"geo\": {\"bgcolor\": \"white\", \"lakecolor\": \"white\", \"landcolor\": \"#E5ECF6\", \"showlakes\": true, \"showland\": true, \"subunitcolor\": \"white\"}, \"hoverlabel\": {\"align\": \"left\"}, \"hovermode\": \"closest\", \"mapbox\": {\"style\": \"light\"}, \"paper_bgcolor\": \"white\", \"plot_bgcolor\": \"#E5ECF6\", \"polar\": {\"angularaxis\": {\"gridcolor\": \"white\", \"linecolor\": \"white\", \"ticks\": \"\"}, \"bgcolor\": \"#E5ECF6\", \"radialaxis\": {\"gridcolor\": \"white\", \"linecolor\": \"white\", \"ticks\": \"\"}}, \"scene\": {\"xaxis\": {\"backgroundcolor\": \"#E5ECF6\", \"gridcolor\": \"white\", \"gridwidth\": 2, \"linecolor\": \"white\", \"showbackground\": true, \"ticks\": \"\", \"zerolinecolor\": \"white\"}, \"yaxis\": {\"backgroundcolor\": \"#E5ECF6\", \"gridcolor\": \"white\", \"gridwidth\": 2, \"linecolor\": \"white\", \"showbackground\": true, \"ticks\": \"\", \"zerolinecolor\": \"white\"}, \"zaxis\": {\"backgroundcolor\": \"#E5ECF6\", \"gridcolor\": \"white\", \"gridwidth\": 2, \"linecolor\": \"white\", \"showbackground\": true, \"ticks\": \"\", \"zerolinecolor\": \"white\"}}, \"shapedefaults\": {\"line\": {\"color\": \"#2a3f5f\"}}, \"ternary\": {\"aaxis\": {\"gridcolor\": \"white\", \"linecolor\": \"white\", \"ticks\": \"\"}, \"baxis\": {\"gridcolor\": \"white\", \"linecolor\": \"white\", \"ticks\": \"\"}, \"bgcolor\": \"#E5ECF6\", \"caxis\": {\"gridcolor\": \"white\", \"linecolor\": \"white\", \"ticks\": \"\"}}, \"title\": {\"x\": 0.05}, \"xaxis\": {\"automargin\": true, \"gridcolor\": \"white\", \"linecolor\": \"white\", \"ticks\": \"\", \"title\": {\"standoff\": 15}, \"zerolinecolor\": \"white\", \"zerolinewidth\": 2}, \"yaxis\": {\"automargin\": true, \"gridcolor\": \"white\", \"linecolor\": \"white\", \"ticks\": \"\", \"title\": {\"standoff\": 15}, \"zerolinecolor\": \"white\", \"zerolinewidth\": 2}}}, \"xaxis\": {\"anchor\": \"y\", \"domain\": [0.0, 1.0], \"title\": {\"text\": \"state\"}}, \"yaxis\": {\"anchor\": \"x\", \"domain\": [0.0, 1.0], \"title\": {\"text\": \"active_cases\"}}},\n",
              "                        {\"responsive\": true}\n",
              "                    ).then(function(){\n",
              "                            \n",
              "var gd = document.getElementById('876dbccb-8234-42df-a8f8-abae2c7b4595');\n",
              "var x = new MutationObserver(function (mutations, observer) {{\n",
              "        var display = window.getComputedStyle(gd).display;\n",
              "        if (!display || display === 'none') {{\n",
              "            console.log([gd, 'removed!']);\n",
              "            Plotly.purge(gd);\n",
              "            observer.disconnect();\n",
              "        }}\n",
              "}});\n",
              "\n",
              "// Listen for the removal of the full notebook cells\n",
              "var notebookContainer = gd.closest('#notebook-container');\n",
              "if (notebookContainer) {{\n",
              "    x.observe(notebookContainer, {childList: true});\n",
              "}}\n",
              "\n",
              "// Listen for the clearing of the current output cell\n",
              "var outputEl = gd.closest('.output');\n",
              "if (outputEl) {{\n",
              "    x.observe(outputEl, {childList: true});\n",
              "}}\n",
              "\n",
              "                        })\n",
              "                };\n",
              "                \n",
              "            </script>\n",
              "        </div>\n",
              "</body>\n",
              "</html>"
            ]
          },
          "metadata": {
            "tags": []
          }
        }
      ]
    },
    {
      "cell_type": "markdown",
      "metadata": {
        "id": "LYoj14vp0th_"
      },
      "source": [
        "<b>Question 5</b><br>\n",
        "Plot a Line Chat with India's active covid-19 case recovery (maximum 12 Months)"
      ]
    },
    {
      "cell_type": "code",
      "metadata": {
        "id": "815jcfh5Na1_"
      },
      "source": [
        "api = requests.get(\"https://disease.sh/v3/covid-19/historical/India?lastdays=365\")\n",
        "api_data = api.json()"
      ],
      "execution_count": 12,
      "outputs": []
    },
    {
      "cell_type": "code",
      "metadata": {
        "colab": {
          "base_uri": "https://localhost:8080/"
        },
        "id": "uEiEdWBwqEpj",
        "outputId": "0aa92d90-a5ba-4bf6-b1d9-5799000ef08d"
      },
      "source": [
        "recovered = api_data['timeline']['recovered']\n",
        "dates = list()\n",
        "case_count = list()\n",
        "for date, cases in recovered.items():\n",
        "  dates.append(date)\n",
        "  case_count.append(cases)\n",
        "print(dates)\n",
        "print(case_count)"
      ],
      "execution_count": 13,
      "outputs": [
        {
          "output_type": "stream",
          "text": [
            "['7/13/20', '7/14/20', '7/15/20', '7/16/20', '7/17/20', '7/18/20', '7/19/20', '7/20/20', '7/21/20', '7/22/20', '7/23/20', '7/24/20', '7/25/20', '7/26/20', '7/27/20', '7/28/20', '7/29/20', '7/30/20', '7/31/20', '8/1/20', '8/2/20', '8/3/20', '8/4/20', '8/5/20', '8/6/20', '8/7/20', '8/8/20', '8/9/20', '8/10/20', '8/11/20', '8/12/20', '8/13/20', '8/14/20', '8/15/20', '8/16/20', '8/17/20', '8/18/20', '8/19/20', '8/20/20', '8/21/20', '8/22/20', '8/23/20', '8/24/20', '8/25/20', '8/26/20', '8/27/20', '8/28/20', '8/29/20', '8/30/20', '8/31/20', '9/1/20', '9/2/20', '9/3/20', '9/4/20', '9/5/20', '9/6/20', '9/7/20', '9/8/20', '9/9/20', '9/10/20', '9/11/20', '9/12/20', '9/13/20', '9/14/20', '9/15/20', '9/16/20', '9/17/20', '9/18/20', '9/19/20', '9/20/20', '9/21/20', '9/22/20', '9/23/20', '9/24/20', '9/25/20', '9/26/20', '9/27/20', '9/28/20', '9/29/20', '9/30/20', '10/1/20', '10/2/20', '10/3/20', '10/4/20', '10/5/20', '10/6/20', '10/7/20', '10/8/20', '10/9/20', '10/10/20', '10/11/20', '10/12/20', '10/13/20', '10/14/20', '10/15/20', '10/16/20', '10/17/20', '10/18/20', '10/19/20', '10/20/20', '10/21/20', '10/22/20', '10/23/20', '10/24/20', '10/25/20', '10/26/20', '10/27/20', '10/28/20', '10/29/20', '10/30/20', '10/31/20', '11/1/20', '11/2/20', '11/3/20', '11/4/20', '11/5/20', '11/6/20', '11/7/20', '11/8/20', '11/9/20', '11/10/20', '11/11/20', '11/12/20', '11/13/20', '11/14/20', '11/15/20', '11/16/20', '11/17/20', '11/18/20', '11/19/20', '11/20/20', '11/21/20', '11/22/20', '11/23/20', '11/24/20', '11/25/20', '11/26/20', '11/27/20', '11/28/20', '11/29/20', '11/30/20', '12/1/20', '12/2/20', '12/3/20', '12/4/20', '12/5/20', '12/6/20', '12/7/20', '12/8/20', '12/9/20', '12/10/20', '12/11/20', '12/12/20', '12/13/20', '12/14/20', '12/15/20', '12/16/20', '12/17/20', '12/18/20', '12/19/20', '12/20/20', '12/21/20', '12/22/20', '12/23/20', '12/24/20', '12/25/20', '12/26/20', '12/27/20', '12/28/20', '12/29/20', '12/30/20', '12/31/20', '1/1/21', '1/2/21', '1/3/21', '1/4/21', '1/5/21', '1/6/21', '1/7/21', '1/8/21', '1/9/21', '1/10/21', '1/11/21', '1/12/21', '1/13/21', '1/14/21', '1/15/21', '1/16/21', '1/17/21', '1/18/21', '1/19/21', '1/20/21', '1/21/21', '1/22/21', '1/23/21', '1/24/21', '1/25/21', '1/26/21', '1/27/21', '1/28/21', '1/29/21', '1/30/21', '1/31/21', '2/1/21', '2/2/21', '2/3/21', '2/4/21', '2/5/21', '2/6/21', '2/7/21', '2/8/21', '2/9/21', '2/10/21', '2/11/21', '2/12/21', '2/13/21', '2/14/21', '2/15/21', '2/16/21', '2/17/21', '2/18/21', '2/19/21', '2/20/21', '2/21/21', '2/22/21', '2/23/21', '2/24/21', '2/25/21', '2/26/21', '2/27/21', '2/28/21', '3/1/21', '3/2/21', '3/3/21', '3/4/21', '3/5/21', '3/6/21', '3/7/21', '3/8/21', '3/9/21', '3/10/21', '3/11/21', '3/12/21', '3/13/21', '3/14/21', '3/15/21', '3/16/21', '3/17/21', '3/18/21', '3/19/21', '3/20/21', '3/21/21', '3/22/21', '3/23/21', '3/24/21', '3/25/21', '3/26/21', '3/27/21', '3/28/21', '3/29/21', '3/30/21', '3/31/21', '4/1/21', '4/2/21', '4/3/21', '4/4/21', '4/5/21', '4/6/21', '4/7/21', '4/8/21', '4/9/21', '4/10/21', '4/11/21', '4/12/21', '4/13/21', '4/14/21', '4/15/21', '4/16/21', '4/17/21', '4/18/21', '4/19/21', '4/20/21', '4/21/21', '4/22/21', '4/23/21', '4/24/21', '4/25/21', '4/26/21', '4/27/21', '4/28/21', '4/29/21', '4/30/21', '5/1/21', '5/2/21', '5/3/21', '5/4/21', '5/5/21', '5/6/21', '5/7/21', '5/8/21', '5/9/21', '5/10/21', '5/11/21', '5/12/21', '5/13/21', '5/14/21', '5/15/21', '5/16/21', '5/17/21', '5/18/21', '5/19/21', '5/20/21', '5/21/21', '5/22/21', '5/23/21', '5/24/21', '5/25/21', '5/26/21', '5/27/21', '5/28/21', '5/29/21', '5/30/21', '5/31/21', '6/1/21', '6/2/21', '6/3/21', '6/4/21', '6/5/21', '6/6/21', '6/7/21', '6/8/21', '6/9/21', '6/10/21', '6/11/21', '6/12/21', '6/13/21', '6/14/21', '6/15/21', '6/16/21', '6/17/21', '6/18/21', '6/19/21', '6/20/21', '6/21/21', '6/22/21', '6/23/21', '6/24/21', '6/25/21', '6/26/21', '6/27/21', '6/28/21', '6/29/21', '6/30/21', '7/1/21', '7/2/21', '7/3/21', '7/4/21', '7/5/21', '7/6/21', '7/7/21', '7/8/21', '7/9/21', '7/10/21', '7/11/21', '7/12/21']\n",
            "[571460, 592032, 612768, 635757, 653751, 677423, 700087, 724578, 753050, 782607, 817209, 849432, 885573, 917568, 951166, 988029, 1019735, 1055348, 1094374, 1145629, 1186203, 1230509, 1282215, 1328336, 1378105, 1427005, 1480884, 1535743, 1583489, 1639599, 1695982, 1751555, 1808936, 1862258, 1919842, 1977671, 2037816, 2096664, 2158946, 2222577, 2280566, 2338035, 2404585, 2458339, 2523771, 2583948, 2648998, 2713933, 2774801, 2839882, 2901908, 2970492, 3037151, 3107223, 3180865, 3250429, 3323950, 3398844, 3471783, 3542663, 3624196, 3702595, 3780107, 3859399, 3942360, 4025079, 4112551, 4208431, 4303043, 4396399, 4497867, 4587613, 4674987, 4756164, 4849584, 4941627, 5016520, 5101397, 5187825, 5273201, 5352078, 5427706, 5509966, 5586703, 5662490, 5744693, 5827704, 5906069, 5988822, 6077976, 6149535, 6227295, 6301927, 6383441, 6453779, 6524595, 6597209, 6663608, 6733328, 6795103, 6874518, 6948497, 7016046, 7078123, 7137228, 7201070, 7259509, 7315989, 7373375, 7432829, 7491513, 7544798, 7603121, 7656478, 7711809, 7765966, 7819886, 7868968, 7917373, 7959406, 8013783, 8066501, 8115580, 8163572, 8205728, 8249579, 8290370, 8335109, 8383602, 8428409, 8478124, 8521617, 8562641, 8604955, 8642771, 8679138, 8718517, 8759969, 8802267, 8847600, 8889585, 8932647, 8973373, 9016289, 9058822, 9100792, 9139901, 9178946, 9215581, 9253306, 9290809, 9324328, 9357464, 9388159, 9422636, 9456449, 9489740, 9520827, 9550712, 9580402, 9606111, 9636487, 9663382, 9693173, 9717834, 9740108, 9761538, 9782669, 9807569, 9834141, 9860280, 9860280, 9883461, 9927310, 9946867, 9975958, 9997272, 10016859, 10037398, 10037398, 10075950, 10092909, 10111294, 10129111, 10146763, 10162738, 10179715, 10196885, 10211342, 10228753, 10245741, 10265706, 10283702, 10300838, 10316786, 10330084, 10345985, 10359305, 10373606, 10394352, 10409146, 10423109, 10434983, 10448406, 10462631, 10480455, 10496308, 10510796, 10522601, 10534505, 10548521, 10561608, 10573372, 10589230, 10600625, 10611731, 10621220, 10633025, 10644858, 10656845, 10667741, 10678048, 10689715, 10699410, 10712665, 10726702, 10738501, 10750680, 10763451, 10775169, 10786452, 10798921, 10812044, 10826075, 10839894, 10854126, 10868520, 10882798, 10899394, 10920046, 10938146, 10953303, 10973260, 10989897, 11007352, 11027543, 11045284, 11063025, 11083679, 11107332, 11130288, 11151468, 11181253, 11205160, 11231650, 11264637, 11295023, 11323762, 11355993, 11393021, 11434301, 11474683, 11525039, 11569241, 11629289, 11682136, 11732279, 11792135, 11851393, 11913292, 11990859, 12081443, 12156529, 12253697, 12336036, 12429564, 12547866, 12671220, 12809638, 12953817, 13108565, 13276039, 13454880, 13648159, 13867997, 14085110, 14304382, 14556089, 14817240, 15086740, 15384418, 15684406, 15992271, 16292725, 16613292, 16951521, 17280844, 17612351, 17930960, 18317364, 18671222, 19027304, 19382642, 19734823, 20079599, 20432898, 20795335, 21174076, 21596512, 21986363, 22355440, 22712735, 23070365, 23425467, 23728011, 24054861, 24350816, 24633951, 24893410, 25178011, 25454320, 25692342, 25947629, 26179085, 26390584, 26597655, 26795549, 26984781, 27159180, 27341462, 27504126, 27655493, 27790073, 27911384, 28043446, 28162947, 28280472, 28388100, 28491670, 28580647, 28678390, 28765738, 28844199, 28926038, 28994855, 29063740, 29128267, 29193085, 29251029, 29309607, 29366601, 29427330, 29488918, 29548302, 29605779, 29658078, 29700430, 29752294, 29799534, 29843825, 29888284, 29933538, 29975064, 30014713, 30014713]\n"
          ],
          "name": "stdout"
        }
      ]
    },
    {
      "cell_type": "code",
      "metadata": {
        "colab": {
          "base_uri": "https://localhost:8080/",
          "height": 402
        },
        "id": "gjwpUsWCqQ-G",
        "outputId": "7c79affe-65e8-434d-863c-719a2ad46152"
      },
      "source": [
        "recovered_df = pd.DataFrame(data={\"date\":dates,\"case_count\":case_count})\n",
        "recovered_df"
      ],
      "execution_count": 14,
      "outputs": [
        {
          "output_type": "execute_result",
          "data": {
            "text/html": [
              "<div>\n",
              "<style scoped>\n",
              "    .dataframe tbody tr th:only-of-type {\n",
              "        vertical-align: middle;\n",
              "    }\n",
              "\n",
              "    .dataframe tbody tr th {\n",
              "        vertical-align: top;\n",
              "    }\n",
              "\n",
              "    .dataframe thead th {\n",
              "        text-align: right;\n",
              "    }\n",
              "</style>\n",
              "<table border=\"1\" class=\"dataframe\">\n",
              "  <thead>\n",
              "    <tr style=\"text-align: right;\">\n",
              "      <th></th>\n",
              "      <th>date</th>\n",
              "      <th>case_count</th>\n",
              "    </tr>\n",
              "  </thead>\n",
              "  <tbody>\n",
              "    <tr>\n",
              "      <th>0</th>\n",
              "      <td>7/13/20</td>\n",
              "      <td>571460</td>\n",
              "    </tr>\n",
              "    <tr>\n",
              "      <th>1</th>\n",
              "      <td>7/14/20</td>\n",
              "      <td>592032</td>\n",
              "    </tr>\n",
              "    <tr>\n",
              "      <th>2</th>\n",
              "      <td>7/15/20</td>\n",
              "      <td>612768</td>\n",
              "    </tr>\n",
              "    <tr>\n",
              "      <th>3</th>\n",
              "      <td>7/16/20</td>\n",
              "      <td>635757</td>\n",
              "    </tr>\n",
              "    <tr>\n",
              "      <th>4</th>\n",
              "      <td>7/17/20</td>\n",
              "      <td>653751</td>\n",
              "    </tr>\n",
              "    <tr>\n",
              "      <th>...</th>\n",
              "      <td>...</td>\n",
              "      <td>...</td>\n",
              "    </tr>\n",
              "    <tr>\n",
              "      <th>360</th>\n",
              "      <td>7/8/21</td>\n",
              "      <td>29888284</td>\n",
              "    </tr>\n",
              "    <tr>\n",
              "      <th>361</th>\n",
              "      <td>7/9/21</td>\n",
              "      <td>29933538</td>\n",
              "    </tr>\n",
              "    <tr>\n",
              "      <th>362</th>\n",
              "      <td>7/10/21</td>\n",
              "      <td>29975064</td>\n",
              "    </tr>\n",
              "    <tr>\n",
              "      <th>363</th>\n",
              "      <td>7/11/21</td>\n",
              "      <td>30014713</td>\n",
              "    </tr>\n",
              "    <tr>\n",
              "      <th>364</th>\n",
              "      <td>7/12/21</td>\n",
              "      <td>30014713</td>\n",
              "    </tr>\n",
              "  </tbody>\n",
              "</table>\n",
              "<p>365 rows × 2 columns</p>\n",
              "</div>"
            ],
            "text/plain": [
              "        date  case_count\n",
              "0    7/13/20      571460\n",
              "1    7/14/20      592032\n",
              "2    7/15/20      612768\n",
              "3    7/16/20      635757\n",
              "4    7/17/20      653751\n",
              "..       ...         ...\n",
              "360   7/8/21    29888284\n",
              "361   7/9/21    29933538\n",
              "362  7/10/21    29975064\n",
              "363  7/11/21    30014713\n",
              "364  7/12/21    30014713\n",
              "\n",
              "[365 rows x 2 columns]"
            ]
          },
          "metadata": {
            "tags": []
          },
          "execution_count": 14
        }
      ]
    },
    {
      "cell_type": "code",
      "metadata": {
        "colab": {
          "base_uri": "https://localhost:8080/",
          "height": 542
        },
        "id": "m3fXwVB3sETE",
        "outputId": "c3184e46-ed5f-4ebb-9eb1-0cce4aae5102"
      },
      "source": [
        "line_chart = px.line(recovered_df,x='date',y='case_count',title='Recovered Cases in India (past 12 months)')\n",
        "line_chart.update_xaxes(visible=False)\n",
        "line_chart.show()"
      ],
      "execution_count": 17,
      "outputs": [
        {
          "output_type": "display_data",
          "data": {
            "text/html": [
              "<html>\n",
              "<head><meta charset=\"utf-8\" /></head>\n",
              "<body>\n",
              "    <div>\n",
              "            <script src=\"https://cdnjs.cloudflare.com/ajax/libs/mathjax/2.7.5/MathJax.js?config=TeX-AMS-MML_SVG\"></script><script type=\"text/javascript\">if (window.MathJax) {MathJax.Hub.Config({SVG: {font: \"STIX-Web\"}});}</script>\n",
              "                <script type=\"text/javascript\">window.PlotlyConfig = {MathJaxConfig: 'local'};</script>\n",
              "        <script src=\"https://cdn.plot.ly/plotly-latest.min.js\"></script>    \n",
              "            <div id=\"768bf2be-b7a3-4690-8b18-1a9428289cf9\" class=\"plotly-graph-div\" style=\"height:525px; width:100%;\"></div>\n",
              "            <script type=\"text/javascript\">\n",
              "                \n",
              "                    window.PLOTLYENV=window.PLOTLYENV || {};\n",
              "                    \n",
              "                if (document.getElementById(\"768bf2be-b7a3-4690-8b18-1a9428289cf9\")) {\n",
              "                    Plotly.newPlot(\n",
              "                        '768bf2be-b7a3-4690-8b18-1a9428289cf9',\n",
              "                        [{\"hoverlabel\": {\"namelength\": 0}, \"hovertemplate\": \"date=%{x}<br>case_count=%{y}\", \"legendgroup\": \"\", \"line\": {\"color\": \"#636efa\", \"dash\": \"solid\"}, \"mode\": \"lines\", \"name\": \"\", \"showlegend\": false, \"type\": \"scatter\", \"x\": [\"7/13/20\", \"7/14/20\", \"7/15/20\", \"7/16/20\", \"7/17/20\", \"7/18/20\", \"7/19/20\", \"7/20/20\", \"7/21/20\", \"7/22/20\", \"7/23/20\", \"7/24/20\", \"7/25/20\", \"7/26/20\", \"7/27/20\", \"7/28/20\", \"7/29/20\", \"7/30/20\", \"7/31/20\", \"8/1/20\", \"8/2/20\", \"8/3/20\", \"8/4/20\", \"8/5/20\", \"8/6/20\", \"8/7/20\", \"8/8/20\", \"8/9/20\", \"8/10/20\", \"8/11/20\", \"8/12/20\", \"8/13/20\", \"8/14/20\", \"8/15/20\", \"8/16/20\", \"8/17/20\", \"8/18/20\", \"8/19/20\", \"8/20/20\", \"8/21/20\", \"8/22/20\", \"8/23/20\", \"8/24/20\", \"8/25/20\", \"8/26/20\", \"8/27/20\", \"8/28/20\", \"8/29/20\", \"8/30/20\", \"8/31/20\", \"9/1/20\", \"9/2/20\", \"9/3/20\", \"9/4/20\", \"9/5/20\", \"9/6/20\", \"9/7/20\", \"9/8/20\", \"9/9/20\", \"9/10/20\", \"9/11/20\", \"9/12/20\", \"9/13/20\", \"9/14/20\", \"9/15/20\", \"9/16/20\", \"9/17/20\", \"9/18/20\", \"9/19/20\", \"9/20/20\", \"9/21/20\", \"9/22/20\", \"9/23/20\", \"9/24/20\", \"9/25/20\", \"9/26/20\", \"9/27/20\", \"9/28/20\", \"9/29/20\", \"9/30/20\", \"10/1/20\", \"10/2/20\", \"10/3/20\", \"10/4/20\", \"10/5/20\", \"10/6/20\", \"10/7/20\", \"10/8/20\", \"10/9/20\", \"10/10/20\", \"10/11/20\", \"10/12/20\", \"10/13/20\", \"10/14/20\", \"10/15/20\", \"10/16/20\", \"10/17/20\", \"10/18/20\", \"10/19/20\", \"10/20/20\", \"10/21/20\", \"10/22/20\", \"10/23/20\", \"10/24/20\", \"10/25/20\", \"10/26/20\", \"10/27/20\", \"10/28/20\", \"10/29/20\", \"10/30/20\", \"10/31/20\", \"11/1/20\", \"11/2/20\", \"11/3/20\", \"11/4/20\", \"11/5/20\", \"11/6/20\", \"11/7/20\", \"11/8/20\", \"11/9/20\", \"11/10/20\", \"11/11/20\", \"11/12/20\", \"11/13/20\", \"11/14/20\", \"11/15/20\", \"11/16/20\", \"11/17/20\", \"11/18/20\", \"11/19/20\", \"11/20/20\", \"11/21/20\", \"11/22/20\", \"11/23/20\", \"11/24/20\", \"11/25/20\", \"11/26/20\", \"11/27/20\", \"11/28/20\", \"11/29/20\", \"11/30/20\", \"12/1/20\", \"12/2/20\", \"12/3/20\", \"12/4/20\", \"12/5/20\", \"12/6/20\", \"12/7/20\", \"12/8/20\", \"12/9/20\", \"12/10/20\", \"12/11/20\", \"12/12/20\", \"12/13/20\", \"12/14/20\", \"12/15/20\", \"12/16/20\", \"12/17/20\", \"12/18/20\", \"12/19/20\", \"12/20/20\", \"12/21/20\", \"12/22/20\", \"12/23/20\", \"12/24/20\", \"12/25/20\", \"12/26/20\", \"12/27/20\", \"12/28/20\", \"12/29/20\", \"12/30/20\", \"12/31/20\", \"1/1/21\", \"1/2/21\", \"1/3/21\", \"1/4/21\", \"1/5/21\", \"1/6/21\", \"1/7/21\", \"1/8/21\", \"1/9/21\", \"1/10/21\", \"1/11/21\", \"1/12/21\", \"1/13/21\", \"1/14/21\", \"1/15/21\", \"1/16/21\", \"1/17/21\", \"1/18/21\", \"1/19/21\", \"1/20/21\", \"1/21/21\", \"1/22/21\", \"1/23/21\", \"1/24/21\", \"1/25/21\", \"1/26/21\", \"1/27/21\", \"1/28/21\", \"1/29/21\", \"1/30/21\", \"1/31/21\", \"2/1/21\", \"2/2/21\", \"2/3/21\", \"2/4/21\", \"2/5/21\", \"2/6/21\", \"2/7/21\", \"2/8/21\", \"2/9/21\", \"2/10/21\", \"2/11/21\", \"2/12/21\", \"2/13/21\", \"2/14/21\", \"2/15/21\", \"2/16/21\", \"2/17/21\", \"2/18/21\", \"2/19/21\", \"2/20/21\", \"2/21/21\", \"2/22/21\", \"2/23/21\", \"2/24/21\", \"2/25/21\", \"2/26/21\", \"2/27/21\", \"2/28/21\", \"3/1/21\", \"3/2/21\", \"3/3/21\", \"3/4/21\", \"3/5/21\", \"3/6/21\", \"3/7/21\", \"3/8/21\", \"3/9/21\", \"3/10/21\", \"3/11/21\", \"3/12/21\", \"3/13/21\", \"3/14/21\", \"3/15/21\", \"3/16/21\", \"3/17/21\", \"3/18/21\", \"3/19/21\", \"3/20/21\", \"3/21/21\", \"3/22/21\", \"3/23/21\", \"3/24/21\", \"3/25/21\", \"3/26/21\", \"3/27/21\", \"3/28/21\", \"3/29/21\", \"3/30/21\", \"3/31/21\", \"4/1/21\", \"4/2/21\", \"4/3/21\", \"4/4/21\", \"4/5/21\", \"4/6/21\", \"4/7/21\", \"4/8/21\", \"4/9/21\", \"4/10/21\", \"4/11/21\", \"4/12/21\", \"4/13/21\", \"4/14/21\", \"4/15/21\", \"4/16/21\", \"4/17/21\", \"4/18/21\", \"4/19/21\", \"4/20/21\", \"4/21/21\", \"4/22/21\", \"4/23/21\", \"4/24/21\", \"4/25/21\", \"4/26/21\", \"4/27/21\", \"4/28/21\", \"4/29/21\", \"4/30/21\", \"5/1/21\", \"5/2/21\", \"5/3/21\", \"5/4/21\", \"5/5/21\", \"5/6/21\", \"5/7/21\", \"5/8/21\", \"5/9/21\", \"5/10/21\", \"5/11/21\", \"5/12/21\", \"5/13/21\", \"5/14/21\", \"5/15/21\", \"5/16/21\", \"5/17/21\", \"5/18/21\", \"5/19/21\", \"5/20/21\", \"5/21/21\", \"5/22/21\", \"5/23/21\", \"5/24/21\", \"5/25/21\", \"5/26/21\", \"5/27/21\", \"5/28/21\", \"5/29/21\", \"5/30/21\", \"5/31/21\", \"6/1/21\", \"6/2/21\", \"6/3/21\", \"6/4/21\", \"6/5/21\", \"6/6/21\", \"6/7/21\", \"6/8/21\", \"6/9/21\", \"6/10/21\", \"6/11/21\", \"6/12/21\", \"6/13/21\", \"6/14/21\", \"6/15/21\", \"6/16/21\", \"6/17/21\", \"6/18/21\", \"6/19/21\", \"6/20/21\", \"6/21/21\", \"6/22/21\", \"6/23/21\", \"6/24/21\", \"6/25/21\", \"6/26/21\", \"6/27/21\", \"6/28/21\", \"6/29/21\", \"6/30/21\", \"7/1/21\", \"7/2/21\", \"7/3/21\", \"7/4/21\", \"7/5/21\", \"7/6/21\", \"7/7/21\", \"7/8/21\", \"7/9/21\", \"7/10/21\", \"7/11/21\", \"7/12/21\"], \"xaxis\": \"x\", \"y\": [571460, 592032, 612768, 635757, 653751, 677423, 700087, 724578, 753050, 782607, 817209, 849432, 885573, 917568, 951166, 988029, 1019735, 1055348, 1094374, 1145629, 1186203, 1230509, 1282215, 1328336, 1378105, 1427005, 1480884, 1535743, 1583489, 1639599, 1695982, 1751555, 1808936, 1862258, 1919842, 1977671, 2037816, 2096664, 2158946, 2222577, 2280566, 2338035, 2404585, 2458339, 2523771, 2583948, 2648998, 2713933, 2774801, 2839882, 2901908, 2970492, 3037151, 3107223, 3180865, 3250429, 3323950, 3398844, 3471783, 3542663, 3624196, 3702595, 3780107, 3859399, 3942360, 4025079, 4112551, 4208431, 4303043, 4396399, 4497867, 4587613, 4674987, 4756164, 4849584, 4941627, 5016520, 5101397, 5187825, 5273201, 5352078, 5427706, 5509966, 5586703, 5662490, 5744693, 5827704, 5906069, 5988822, 6077976, 6149535, 6227295, 6301927, 6383441, 6453779, 6524595, 6597209, 6663608, 6733328, 6795103, 6874518, 6948497, 7016046, 7078123, 7137228, 7201070, 7259509, 7315989, 7373375, 7432829, 7491513, 7544798, 7603121, 7656478, 7711809, 7765966, 7819886, 7868968, 7917373, 7959406, 8013783, 8066501, 8115580, 8163572, 8205728, 8249579, 8290370, 8335109, 8383602, 8428409, 8478124, 8521617, 8562641, 8604955, 8642771, 8679138, 8718517, 8759969, 8802267, 8847600, 8889585, 8932647, 8973373, 9016289, 9058822, 9100792, 9139901, 9178946, 9215581, 9253306, 9290809, 9324328, 9357464, 9388159, 9422636, 9456449, 9489740, 9520827, 9550712, 9580402, 9606111, 9636487, 9663382, 9693173, 9717834, 9740108, 9761538, 9782669, 9807569, 9834141, 9860280, 9860280, 9883461, 9927310, 9946867, 9975958, 9997272, 10016859, 10037398, 10037398, 10075950, 10092909, 10111294, 10129111, 10146763, 10162738, 10179715, 10196885, 10211342, 10228753, 10245741, 10265706, 10283702, 10300838, 10316786, 10330084, 10345985, 10359305, 10373606, 10394352, 10409146, 10423109, 10434983, 10448406, 10462631, 10480455, 10496308, 10510796, 10522601, 10534505, 10548521, 10561608, 10573372, 10589230, 10600625, 10611731, 10621220, 10633025, 10644858, 10656845, 10667741, 10678048, 10689715, 10699410, 10712665, 10726702, 10738501, 10750680, 10763451, 10775169, 10786452, 10798921, 10812044, 10826075, 10839894, 10854126, 10868520, 10882798, 10899394, 10920046, 10938146, 10953303, 10973260, 10989897, 11007352, 11027543, 11045284, 11063025, 11083679, 11107332, 11130288, 11151468, 11181253, 11205160, 11231650, 11264637, 11295023, 11323762, 11355993, 11393021, 11434301, 11474683, 11525039, 11569241, 11629289, 11682136, 11732279, 11792135, 11851393, 11913292, 11990859, 12081443, 12156529, 12253697, 12336036, 12429564, 12547866, 12671220, 12809638, 12953817, 13108565, 13276039, 13454880, 13648159, 13867997, 14085110, 14304382, 14556089, 14817240, 15086740, 15384418, 15684406, 15992271, 16292725, 16613292, 16951521, 17280844, 17612351, 17930960, 18317364, 18671222, 19027304, 19382642, 19734823, 20079599, 20432898, 20795335, 21174076, 21596512, 21986363, 22355440, 22712735, 23070365, 23425467, 23728011, 24054861, 24350816, 24633951, 24893410, 25178011, 25454320, 25692342, 25947629, 26179085, 26390584, 26597655, 26795549, 26984781, 27159180, 27341462, 27504126, 27655493, 27790073, 27911384, 28043446, 28162947, 28280472, 28388100, 28491670, 28580647, 28678390, 28765738, 28844199, 28926038, 28994855, 29063740, 29128267, 29193085, 29251029, 29309607, 29366601, 29427330, 29488918, 29548302, 29605779, 29658078, 29700430, 29752294, 29799534, 29843825, 29888284, 29933538, 29975064, 30014713, 30014713], \"yaxis\": \"y\"}],\n",
              "                        {\"legend\": {\"tracegroupgap\": 0}, \"template\": {\"data\": {\"bar\": [{\"error_x\": {\"color\": \"#2a3f5f\"}, \"error_y\": {\"color\": \"#2a3f5f\"}, \"marker\": {\"line\": {\"color\": \"#E5ECF6\", \"width\": 0.5}}, \"type\": \"bar\"}], \"barpolar\": [{\"marker\": {\"line\": {\"color\": \"#E5ECF6\", \"width\": 0.5}}, \"type\": \"barpolar\"}], \"carpet\": [{\"aaxis\": {\"endlinecolor\": \"#2a3f5f\", \"gridcolor\": \"white\", \"linecolor\": \"white\", \"minorgridcolor\": \"white\", \"startlinecolor\": \"#2a3f5f\"}, \"baxis\": {\"endlinecolor\": \"#2a3f5f\", \"gridcolor\": \"white\", \"linecolor\": \"white\", \"minorgridcolor\": \"white\", \"startlinecolor\": \"#2a3f5f\"}, \"type\": \"carpet\"}], \"choropleth\": [{\"colorbar\": {\"outlinewidth\": 0, \"ticks\": \"\"}, \"type\": \"choropleth\"}], \"contour\": [{\"colorbar\": {\"outlinewidth\": 0, \"ticks\": \"\"}, \"colorscale\": [[0.0, \"#0d0887\"], [0.1111111111111111, \"#46039f\"], [0.2222222222222222, \"#7201a8\"], [0.3333333333333333, \"#9c179e\"], [0.4444444444444444, \"#bd3786\"], [0.5555555555555556, \"#d8576b\"], [0.6666666666666666, \"#ed7953\"], [0.7777777777777778, \"#fb9f3a\"], [0.8888888888888888, \"#fdca26\"], [1.0, \"#f0f921\"]], \"type\": \"contour\"}], \"contourcarpet\": [{\"colorbar\": {\"outlinewidth\": 0, \"ticks\": \"\"}, \"type\": \"contourcarpet\"}], \"heatmap\": [{\"colorbar\": {\"outlinewidth\": 0, \"ticks\": \"\"}, \"colorscale\": [[0.0, \"#0d0887\"], [0.1111111111111111, \"#46039f\"], [0.2222222222222222, \"#7201a8\"], [0.3333333333333333, \"#9c179e\"], [0.4444444444444444, \"#bd3786\"], [0.5555555555555556, \"#d8576b\"], [0.6666666666666666, \"#ed7953\"], [0.7777777777777778, \"#fb9f3a\"], [0.8888888888888888, \"#fdca26\"], [1.0, \"#f0f921\"]], \"type\": \"heatmap\"}], \"heatmapgl\": [{\"colorbar\": {\"outlinewidth\": 0, \"ticks\": \"\"}, \"colorscale\": [[0.0, \"#0d0887\"], [0.1111111111111111, \"#46039f\"], [0.2222222222222222, \"#7201a8\"], [0.3333333333333333, \"#9c179e\"], [0.4444444444444444, \"#bd3786\"], [0.5555555555555556, \"#d8576b\"], [0.6666666666666666, \"#ed7953\"], [0.7777777777777778, \"#fb9f3a\"], [0.8888888888888888, \"#fdca26\"], [1.0, \"#f0f921\"]], \"type\": \"heatmapgl\"}], \"histogram\": [{\"marker\": {\"colorbar\": {\"outlinewidth\": 0, \"ticks\": \"\"}}, \"type\": \"histogram\"}], \"histogram2d\": [{\"colorbar\": {\"outlinewidth\": 0, \"ticks\": \"\"}, \"colorscale\": [[0.0, \"#0d0887\"], [0.1111111111111111, \"#46039f\"], [0.2222222222222222, \"#7201a8\"], [0.3333333333333333, \"#9c179e\"], [0.4444444444444444, \"#bd3786\"], [0.5555555555555556, \"#d8576b\"], [0.6666666666666666, \"#ed7953\"], [0.7777777777777778, \"#fb9f3a\"], [0.8888888888888888, \"#fdca26\"], [1.0, \"#f0f921\"]], \"type\": \"histogram2d\"}], \"histogram2dcontour\": [{\"colorbar\": {\"outlinewidth\": 0, \"ticks\": \"\"}, \"colorscale\": [[0.0, \"#0d0887\"], [0.1111111111111111, \"#46039f\"], [0.2222222222222222, \"#7201a8\"], [0.3333333333333333, \"#9c179e\"], [0.4444444444444444, \"#bd3786\"], [0.5555555555555556, \"#d8576b\"], [0.6666666666666666, \"#ed7953\"], [0.7777777777777778, \"#fb9f3a\"], [0.8888888888888888, \"#fdca26\"], [1.0, \"#f0f921\"]], \"type\": \"histogram2dcontour\"}], \"mesh3d\": [{\"colorbar\": {\"outlinewidth\": 0, \"ticks\": \"\"}, \"type\": \"mesh3d\"}], \"parcoords\": [{\"line\": {\"colorbar\": {\"outlinewidth\": 0, \"ticks\": \"\"}}, \"type\": \"parcoords\"}], \"pie\": [{\"automargin\": true, \"type\": \"pie\"}], \"scatter\": [{\"marker\": {\"colorbar\": {\"outlinewidth\": 0, \"ticks\": \"\"}}, \"type\": \"scatter\"}], \"scatter3d\": [{\"line\": {\"colorbar\": {\"outlinewidth\": 0, \"ticks\": \"\"}}, \"marker\": {\"colorbar\": {\"outlinewidth\": 0, \"ticks\": \"\"}}, \"type\": \"scatter3d\"}], \"scattercarpet\": [{\"marker\": {\"colorbar\": {\"outlinewidth\": 0, \"ticks\": \"\"}}, \"type\": \"scattercarpet\"}], \"scattergeo\": [{\"marker\": {\"colorbar\": {\"outlinewidth\": 0, \"ticks\": \"\"}}, \"type\": \"scattergeo\"}], \"scattergl\": [{\"marker\": {\"colorbar\": {\"outlinewidth\": 0, \"ticks\": \"\"}}, \"type\": \"scattergl\"}], \"scattermapbox\": [{\"marker\": {\"colorbar\": {\"outlinewidth\": 0, \"ticks\": \"\"}}, \"type\": \"scattermapbox\"}], \"scatterpolar\": [{\"marker\": {\"colorbar\": {\"outlinewidth\": 0, \"ticks\": \"\"}}, \"type\": \"scatterpolar\"}], \"scatterpolargl\": [{\"marker\": {\"colorbar\": {\"outlinewidth\": 0, \"ticks\": \"\"}}, \"type\": \"scatterpolargl\"}], \"scatterternary\": [{\"marker\": {\"colorbar\": {\"outlinewidth\": 0, \"ticks\": \"\"}}, \"type\": \"scatterternary\"}], \"surface\": [{\"colorbar\": {\"outlinewidth\": 0, \"ticks\": \"\"}, \"colorscale\": [[0.0, \"#0d0887\"], [0.1111111111111111, \"#46039f\"], [0.2222222222222222, \"#7201a8\"], [0.3333333333333333, \"#9c179e\"], [0.4444444444444444, \"#bd3786\"], [0.5555555555555556, \"#d8576b\"], [0.6666666666666666, \"#ed7953\"], [0.7777777777777778, \"#fb9f3a\"], [0.8888888888888888, \"#fdca26\"], [1.0, \"#f0f921\"]], \"type\": \"surface\"}], \"table\": [{\"cells\": {\"fill\": {\"color\": \"#EBF0F8\"}, \"line\": {\"color\": \"white\"}}, \"header\": {\"fill\": {\"color\": \"#C8D4E3\"}, \"line\": {\"color\": \"white\"}}, \"type\": \"table\"}]}, \"layout\": {\"annotationdefaults\": {\"arrowcolor\": \"#2a3f5f\", \"arrowhead\": 0, \"arrowwidth\": 1}, \"coloraxis\": {\"colorbar\": {\"outlinewidth\": 0, \"ticks\": \"\"}}, \"colorscale\": {\"diverging\": [[0, \"#8e0152\"], [0.1, \"#c51b7d\"], [0.2, \"#de77ae\"], [0.3, \"#f1b6da\"], [0.4, \"#fde0ef\"], [0.5, \"#f7f7f7\"], [0.6, \"#e6f5d0\"], [0.7, \"#b8e186\"], [0.8, \"#7fbc41\"], [0.9, \"#4d9221\"], [1, \"#276419\"]], \"sequential\": [[0.0, \"#0d0887\"], [0.1111111111111111, \"#46039f\"], [0.2222222222222222, \"#7201a8\"], [0.3333333333333333, \"#9c179e\"], [0.4444444444444444, \"#bd3786\"], [0.5555555555555556, \"#d8576b\"], [0.6666666666666666, \"#ed7953\"], [0.7777777777777778, \"#fb9f3a\"], [0.8888888888888888, \"#fdca26\"], [1.0, \"#f0f921\"]], \"sequentialminus\": [[0.0, \"#0d0887\"], [0.1111111111111111, \"#46039f\"], [0.2222222222222222, \"#7201a8\"], [0.3333333333333333, \"#9c179e\"], [0.4444444444444444, \"#bd3786\"], [0.5555555555555556, \"#d8576b\"], [0.6666666666666666, \"#ed7953\"], [0.7777777777777778, \"#fb9f3a\"], [0.8888888888888888, \"#fdca26\"], [1.0, \"#f0f921\"]]}, \"colorway\": [\"#636efa\", \"#EF553B\", \"#00cc96\", \"#ab63fa\", \"#FFA15A\", \"#19d3f3\", \"#FF6692\", \"#B6E880\", \"#FF97FF\", \"#FECB52\"], \"font\": {\"color\": \"#2a3f5f\"}, \"geo\": {\"bgcolor\": \"white\", \"lakecolor\": \"white\", \"landcolor\": \"#E5ECF6\", \"showlakes\": true, \"showland\": true, \"subunitcolor\": \"white\"}, \"hoverlabel\": {\"align\": \"left\"}, \"hovermode\": \"closest\", \"mapbox\": {\"style\": \"light\"}, \"paper_bgcolor\": \"white\", \"plot_bgcolor\": \"#E5ECF6\", \"polar\": {\"angularaxis\": {\"gridcolor\": \"white\", \"linecolor\": \"white\", \"ticks\": \"\"}, \"bgcolor\": \"#E5ECF6\", \"radialaxis\": {\"gridcolor\": \"white\", \"linecolor\": \"white\", \"ticks\": \"\"}}, \"scene\": {\"xaxis\": {\"backgroundcolor\": \"#E5ECF6\", \"gridcolor\": \"white\", \"gridwidth\": 2, \"linecolor\": \"white\", \"showbackground\": true, \"ticks\": \"\", \"zerolinecolor\": \"white\"}, \"yaxis\": {\"backgroundcolor\": \"#E5ECF6\", \"gridcolor\": \"white\", \"gridwidth\": 2, \"linecolor\": \"white\", \"showbackground\": true, \"ticks\": \"\", \"zerolinecolor\": \"white\"}, \"zaxis\": {\"backgroundcolor\": \"#E5ECF6\", \"gridcolor\": \"white\", \"gridwidth\": 2, \"linecolor\": \"white\", \"showbackground\": true, \"ticks\": \"\", \"zerolinecolor\": \"white\"}}, \"shapedefaults\": {\"line\": {\"color\": \"#2a3f5f\"}}, \"ternary\": {\"aaxis\": {\"gridcolor\": \"white\", \"linecolor\": \"white\", \"ticks\": \"\"}, \"baxis\": {\"gridcolor\": \"white\", \"linecolor\": \"white\", \"ticks\": \"\"}, \"bgcolor\": \"#E5ECF6\", \"caxis\": {\"gridcolor\": \"white\", \"linecolor\": \"white\", \"ticks\": \"\"}}, \"title\": {\"x\": 0.05}, \"xaxis\": {\"automargin\": true, \"gridcolor\": \"white\", \"linecolor\": \"white\", \"ticks\": \"\", \"title\": {\"standoff\": 15}, \"zerolinecolor\": \"white\", \"zerolinewidth\": 2}, \"yaxis\": {\"automargin\": true, \"gridcolor\": \"white\", \"linecolor\": \"white\", \"ticks\": \"\", \"title\": {\"standoff\": 15}, \"zerolinecolor\": \"white\", \"zerolinewidth\": 2}}}, \"title\": {\"text\": \"Recovered Cases in India (past 12 months)\"}, \"xaxis\": {\"anchor\": \"y\", \"domain\": [0.0, 1.0], \"title\": {\"text\": \"date\"}, \"visible\": false}, \"yaxis\": {\"anchor\": \"x\", \"domain\": [0.0, 1.0], \"title\": {\"text\": \"case_count\"}}},\n",
              "                        {\"responsive\": true}\n",
              "                    ).then(function(){\n",
              "                            \n",
              "var gd = document.getElementById('768bf2be-b7a3-4690-8b18-1a9428289cf9');\n",
              "var x = new MutationObserver(function (mutations, observer) {{\n",
              "        var display = window.getComputedStyle(gd).display;\n",
              "        if (!display || display === 'none') {{\n",
              "            console.log([gd, 'removed!']);\n",
              "            Plotly.purge(gd);\n",
              "            observer.disconnect();\n",
              "        }}\n",
              "}});\n",
              "\n",
              "// Listen for the removal of the full notebook cells\n",
              "var notebookContainer = gd.closest('#notebook-container');\n",
              "if (notebookContainer) {{\n",
              "    x.observe(notebookContainer, {childList: true});\n",
              "}}\n",
              "\n",
              "// Listen for the clearing of the current output cell\n",
              "var outputEl = gd.closest('.output');\n",
              "if (outputEl) {{\n",
              "    x.observe(outputEl, {childList: true});\n",
              "}}\n",
              "\n",
              "                        })\n",
              "                };\n",
              "                \n",
              "            </script>\n",
              "        </div>\n",
              "</body>\n",
              "</html>"
            ]
          },
          "metadata": {
            "tags": []
          }
        }
      ]
    }
  ]
}