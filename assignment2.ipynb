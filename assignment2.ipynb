{
 "cells": [
  {
   "cell_type": "markdown",
   "id": "color-jacob",
   "metadata": {},
   "source": [
    "## ASSIGNMENT DAY 2\n",
    "### Let's Upgrade - Data Visualization Using Python\n",
    "Name: Basudev Tyagi<br>\n",
    "E-Mail: tyagi101basudev@gmail.com<br>\n",
    "Mobile No.: 7251976234"
   ]
  },
  {
   "cell_type": "code",
   "execution_count": 1,
   "id": "functional-appraisal",
   "metadata": {},
   "outputs": [],
   "source": [
    "#IMPORTING NECESSARY PACKAGES\n",
    "import pandas as pd\n",
    "import matplotlib.pyplot as plt\n",
    "from numpy.random import randn\n",
    "%matplotlib inline"
   ]
  },
  {
   "cell_type": "markdown",
   "id": "composed-hammer",
   "metadata": {},
   "source": [
    "<b>Question 1</b><br>\n",
    "Create a dataframe with 10 rows on random numbers and 4 columns, (columns labelled as a,b,c,d) and plot a bar chart."
   ]
  },
  {
   "cell_type": "code",
   "execution_count": 2,
   "id": "varying-locator",
   "metadata": {},
   "outputs": [
    {
     "data": {
      "text/html": [
       "<div>\n",
       "<style scoped>\n",
       "    .dataframe tbody tr th:only-of-type {\n",
       "        vertical-align: middle;\n",
       "    }\n",
       "\n",
       "    .dataframe tbody tr th {\n",
       "        vertical-align: top;\n",
       "    }\n",
       "\n",
       "    .dataframe thead th {\n",
       "        text-align: right;\n",
       "    }\n",
       "</style>\n",
       "<table border=\"1\" class=\"dataframe\">\n",
       "  <thead>\n",
       "    <tr style=\"text-align: right;\">\n",
       "      <th></th>\n",
       "      <th>a</th>\n",
       "      <th>b</th>\n",
       "      <th>c</th>\n",
       "      <th>d</th>\n",
       "    </tr>\n",
       "  </thead>\n",
       "  <tbody>\n",
       "    <tr>\n",
       "      <th>0</th>\n",
       "      <td>-2.464839</td>\n",
       "      <td>1.076745</td>\n",
       "      <td>-0.056493</td>\n",
       "      <td>0.297115</td>\n",
       "    </tr>\n",
       "    <tr>\n",
       "      <th>1</th>\n",
       "      <td>-1.759371</td>\n",
       "      <td>1.315791</td>\n",
       "      <td>-0.846521</td>\n",
       "      <td>-0.302941</td>\n",
       "    </tr>\n",
       "    <tr>\n",
       "      <th>2</th>\n",
       "      <td>0.016353</td>\n",
       "      <td>-1.477595</td>\n",
       "      <td>0.497324</td>\n",
       "      <td>0.040883</td>\n",
       "    </tr>\n",
       "    <tr>\n",
       "      <th>3</th>\n",
       "      <td>-0.975249</td>\n",
       "      <td>1.424546</td>\n",
       "      <td>-0.248214</td>\n",
       "      <td>1.089737</td>\n",
       "    </tr>\n",
       "    <tr>\n",
       "      <th>4</th>\n",
       "      <td>1.888763</td>\n",
       "      <td>0.098072</td>\n",
       "      <td>-1.192382</td>\n",
       "      <td>0.236684</td>\n",
       "    </tr>\n",
       "    <tr>\n",
       "      <th>5</th>\n",
       "      <td>-1.606627</td>\n",
       "      <td>-1.110148</td>\n",
       "      <td>1.887582</td>\n",
       "      <td>0.400876</td>\n",
       "    </tr>\n",
       "    <tr>\n",
       "      <th>6</th>\n",
       "      <td>-0.764459</td>\n",
       "      <td>0.208086</td>\n",
       "      <td>0.170372</td>\n",
       "      <td>-0.324393</td>\n",
       "    </tr>\n",
       "    <tr>\n",
       "      <th>7</th>\n",
       "      <td>1.734454</td>\n",
       "      <td>0.070247</td>\n",
       "      <td>1.606439</td>\n",
       "      <td>0.414272</td>\n",
       "    </tr>\n",
       "    <tr>\n",
       "      <th>8</th>\n",
       "      <td>1.035049</td>\n",
       "      <td>0.503506</td>\n",
       "      <td>-0.645457</td>\n",
       "      <td>1.351922</td>\n",
       "    </tr>\n",
       "    <tr>\n",
       "      <th>9</th>\n",
       "      <td>1.334352</td>\n",
       "      <td>-0.544659</td>\n",
       "      <td>-0.231402</td>\n",
       "      <td>-0.932694</td>\n",
       "    </tr>\n",
       "  </tbody>\n",
       "</table>\n",
       "</div>"
      ],
      "text/plain": [
       "          a         b         c         d\n",
       "0 -2.464839  1.076745 -0.056493  0.297115\n",
       "1 -1.759371  1.315791 -0.846521 -0.302941\n",
       "2  0.016353 -1.477595  0.497324  0.040883\n",
       "3 -0.975249  1.424546 -0.248214  1.089737\n",
       "4  1.888763  0.098072 -1.192382  0.236684\n",
       "5 -1.606627 -1.110148  1.887582  0.400876\n",
       "6 -0.764459  0.208086  0.170372 -0.324393\n",
       "7  1.734454  0.070247  1.606439  0.414272\n",
       "8  1.035049  0.503506 -0.645457  1.351922\n",
       "9  1.334352 -0.544659 -0.231402 -0.932694"
      ]
     },
     "metadata": {},
     "output_type": "display_data"
    }
   ],
   "source": [
    "df = pd.DataFrame(randn(10, 4), columns=['a', 'b', 'c', 'd'])\n",
    "display(df)"
   ]
  },
  {
   "cell_type": "code",
   "execution_count": 3,
   "id": "radio-bridal",
   "metadata": {},
   "outputs": [
    {
     "data": {
      "text/plain": [
       "<AxesSubplot:>"
      ]
     },
     "execution_count": 3,
     "metadata": {},
     "output_type": "execute_result"
    },
    {
     "data": {
      "image/png": "[encoded data removed]",
      "text/plain": [
       "<Figure size 1440x720 with 1 Axes>"
      ]
     },
     "metadata": {
      "needs_background": "light"
     },
     "output_type": "display_data"
    }
   ],
   "source": [
    "df.plot(kind=\"bar\",figsize=(20,10))"
   ]
  }
 ],
 "metadata": {
  "kernelspec": {
   "display_name": "Python 3",
   "language": "python",
   "name": "python3"
  },
  "language_info": {
   "codemirror_mode": {
    "name": "ipython",
    "version": 3
   },
   "file_extension": ".py",
   "mimetype": "text/x-python",
   "name": "python",
   "nbconvert_exporter": "python",
   "pygments_lexer": "ipython3",
   "version": "3.8.8"
  }
 },
 "nbformat": 4,
 "nbformat_minor": 5
}
